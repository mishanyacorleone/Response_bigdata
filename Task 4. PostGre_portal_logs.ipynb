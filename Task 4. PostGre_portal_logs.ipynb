{
 "cells": [
  {
   "cell_type": "markdown",
   "id": "517c84ef-e444-4e0f-945b-be7177cbc991",
   "metadata": {},
   "source": [
    "# Создание и заполнение данных БД Postgre"
   ]
  },
  {
   "cell_type": "code",
   "execution_count": 1,
   "id": "5c391318-0f94-47f8-883c-bc37724866c4",
   "metadata": {},
   "outputs": [],
   "source": [
    "import os\n",
    "import json\n",
    "import psycopg2\n",
    "from psycopg2.extras import DictCursor\n"
   ]
  },
  {
   "cell_type": "code",
   "execution_count": 2,
   "id": "53552e6b-7dbe-46e8-8809-d6082bcdc85f",
   "metadata": {},
   "outputs": [],
   "source": [
    "POSTGRESQL_HOST = '10.129.0.25'"
   ]
  },
  {
   "cell_type": "code",
   "execution_count": 3,
   "id": "faca2a50-c99b-4117-9b2e-6e7ee6da58b4",
   "metadata": {},
   "outputs": [
    {
     "name": "stdout",
     "output_type": "stream",
     "text": [
      "POSTGRESQL_USER=reader\n",
      "POSTGRESQL_PASSWORD=Miba2021\n"
     ]
    }
   ],
   "source": [
    "!env | grep POST"
   ]
  },
  {
   "cell_type": "code",
   "execution_count": 4,
   "id": "8a4a2af1-c4e8-44a5-8dab-97afcb4d0d30",
   "metadata": {},
   "outputs": [
    {
     "name": "stdout",
     "output_type": "stream",
     "text": [
      "CREATE DATABASE\n"
     ]
    }
   ],
   "source": [
    "!psql -c 'create database test;'"
   ]
  },
  {
   "cell_type": "code",
   "execution_count": 5,
   "id": "3944aeb3-30a5-4174-8aef-94402305ab8f",
   "metadata": {},
   "outputs": [],
   "source": [
    "%load_ext sql"
   ]
  },
  {
   "cell_type": "code",
   "execution_count": 6,
   "id": "20d0cf52-8265-4df8-8730-c8fbc9df6824",
   "metadata": {},
   "outputs": [
    {
     "name": "stdout",
     "output_type": "stream",
     "text": [
      "0 rows affected.\n"
     ]
    },
    {
     "data": {
      "text/html": [
       "<table>\n",
       "    <tr>\n",
       "        <th>table</th>\n",
       "    </tr>\n",
       "</table>"
      ],
      "text/plain": [
       "[]"
      ]
     },
     "execution_count": 6,
     "metadata": {},
     "output_type": "execute_result"
    }
   ],
   "source": [
    "%%sql postgresql:///test\n",
    "    SELECT tablename AS table FROM pg_tables WHERE tablename !~ '^(pg_|sql_)'"
   ]
  },
  {
   "cell_type": "markdown",
   "id": "46496e8c-d287-427d-9048-ebc39a099af5",
   "metadata": {},
   "source": [
    "## Примеры SQL запросов \n",
    "1. Представим запрос для создания таблицы users c двумя полями:\n",
    "```\n",
    "%%sql postgresql:///test\n",
    "    CREATE TABLE users (\n",
    "        login varchar(10) NOT NULL, \n",
    "        password varchar(100)\n",
    "    );\n",
    "```\n",
    "\n",
    "2. Чтобы добавить запись в таблицу, небходимо выполнить следующий запрос:\n",
    "\n",
    "```\n",
    "%%sql postgresql:///test\n",
    "   INSERT INTO users VALUES ('monit', 'querty')\n",
    "```\n",
    "\n",
    "3. Получить данные из таблицы:\n",
    "```\n",
    "%%sql postgresql:///test\n",
    "   SELECT * FROM users\n",
    "```\n",
    "\n",
    "4. Удалить таблицу:\n",
    "```\n",
    "!psql -d test -c 'DROP TABLE users'\n",
    "```"
   ]
  },
  {
   "cell_type": "markdown",
   "id": "e726d8a0-7fb7-41d7-9649-54e83b9c1de9",
   "metadata": {},
   "source": [
    "Считаем данные из файла datasets/aggrigation_logs_per_week.csv.\n",
    "\n",
    "Выведем первую строку с заголовками. "
   ]
  },
  {
   "cell_type": "code",
   "execution_count": 7,
   "id": "ed9ac5a9-2b33-4d79-823f-fc5acc586040",
   "metadata": {},
   "outputs": [
    {
     "name": "stdout",
     "output_type": "stream",
     "text": [
      "['courseid', 'userid', 'num_week', 's_all', 's_all_avg', 's_course_viewed', 's_course_viewed_avg', 's_q_attempt_viewed', 's_q_attempt_viewed_avg', 's_a_course_module_viewed', 's_a_course_module_viewed_avg', 's_a_submission_status_viewed', 's_a_submission_status_viewed_avg', 'NameR_Level', 'Name_vAtt', 'Depart', 'Name_OsnO', 'Name_FormOPril', 'LevelEd', 'Num_Sem', 'Kurs', 'Date_vAtt']\n"
     ]
    }
   ],
   "source": [
    "import csv\n",
    "\n",
    "with open('datasets/aggrigation_logs_per_week.csv') as file:\n",
    "    reader = csv.reader(file)\n",
    "    headers = next(reader)\n",
    "print (headers)"
   ]
  },
  {
   "cell_type": "markdown",
   "id": "b2f22ca1-b1e7-4ab9-98c2-6b6251bfad35",
   "metadata": {},
   "source": [
    "Вам предоставлен набор данных с логами (действиями) студентов на образовательном портале за весенний семестр (агрегация по каждой неделе) по отдельному электронному курсу.\n",
    "- сourseid — уникальный идентификатор курса, дисциплины;\n",
    "- userid — уникальный идентификатор студента (не используется в обучении);\n",
    "- num_week — номер недели в году;\n",
    "- s_all — количество всех событий на текущий момент;\n",
    "- s_all_avg — среднее количество всех событий в неделю;\n",
    "- s_course_viewed — количество просмотров курса;\n",
    "- s_course_viewed_avg — среднее количество просмотров курса в неделю;\n",
    "- s_q_attempt_viewed — количество просмотров теста;\n",
    "- s_q_attempt_viewed_avg — среднее количество просмотров теста в неделю;\n",
    "- s_a_course_module_viewed — количество просмотров модуля в курсе;\n",
    "- s_a_course_module_viewed_avg — среднее количество просмотров модуля в курсе в неделю;\n",
    "- s_a_submission_status_viewed — количество отправленных заданий на проверку;\n",
    "- s_a_submission_status_viewed_avg — среднее количество ответов;\n",
    "- namer_level — оценка за дисциплину;\n",
    "- depart — номер кафедры;\n",
    "- name_osno — основа обучения (имеет два значения: бюджет или контракт);\n",
    "- name_formopril — форма обучения;\n",
    "- leveled — уровень образования (имеет два значения: бакалавриат, магистратура);\n",
    "- num_sem — номер семестра;\n",
    "- kurs — номер курса учебной группы."
   ]
  },
  {
   "cell_type": "markdown",
   "id": "94c19cff-1a95-4077-a4d8-3e6393f8b39b",
   "metadata": {},
   "source": [
    "Создадим таблицу с логами студентов в тестовой БД"
   ]
  },
  {
   "cell_type": "code",
   "execution_count": 8,
   "id": "31ce274c-2d0f-46ce-a200-8c9445180e7e",
   "metadata": {},
   "outputs": [
    {
     "name": "stdout",
     "output_type": "stream",
     "text": [
      "CREATE TABLE\n"
     ]
    }
   ],
   "source": [
    "!psql -d test -c 'CREATE TABLE logs ( \\\n",
    "    courseid varchar(5), \\\n",
    "    userid varchar(5), \\\n",
    "    num_week smallint, \\\n",
    "    s_all smallint, \\\n",
    "    s_all_avg varchar(10), \\\n",
    "    s_course_viewed smallint, \\\n",
    "    s_course_viewed_avg varchar(10), \\\n",
    "    s_q_attempt_viewed smallint, \\\n",
    "    s_q_attempt_viewed_avg varchar(10), \\\n",
    "    s_a_course_module_viewed smallint, \\\n",
    "    s_a_course_module_viewed_avg varchar(10), \\\n",
    "    s_a_submission_status_viewed smallint, \\\n",
    "    s_a_submission_status_viewed_avg varchar(10), \\\n",
    "    NameR_Level varchar(20), \\\n",
    "    Name_vAtt varchar(20), \\\n",
    "    Depart varchar(5), \\\n",
    "    Name_OsnO smallint, \\\n",
    "    Name_FormOPril smallint, \\\n",
    "    LevelEd smallint, \\\n",
    "    Num_Sem smallint, \\\n",
    "    Kurs smallint, \\\n",
    "    Date_vAtt varchar(20)\\\n",
    ");'"
   ]
  },
  {
   "cell_type": "markdown",
   "id": "4f3d1fd4-9888-458a-9483-34bdfbd028b2",
   "metadata": {},
   "source": [
    "Добавим данные из файла aggrigation_logs_per_week.csv в созданную таблицу.\n"
   ]
  },
  {
   "cell_type": "code",
   "execution_count": 9,
   "id": "a942cf16-b53b-456a-86f0-fa3d6fd0db0e",
   "metadata": {},
   "outputs": [
    {
     "name": "stdout",
     "output_type": "stream",
     "text": [
      "COPY 414528\n"
     ]
    }
   ],
   "source": [
    "!psql -d test \\\n",
    "    -c \"\\copy logs FROM 'datasets/aggrigation_logs_per_week.csv' DELIMITER ',' CSV HEADER;\""
   ]
  },
  {
   "cell_type": "markdown",
   "id": "0d6b5db0-a8dc-4ad6-b0d3-5af6fcb42a57",
   "metadata": {},
   "source": [
    "Выведем первые 10 записей."
   ]
  },
  {
   "cell_type": "code",
   "execution_count": 10,
   "id": "47a908a8-99af-4277-bd1e-50b31459f9a1",
   "metadata": {},
   "outputs": [
    {
     "name": "stdout",
     "output_type": "stream",
     "text": [
      "10 rows affected.\n"
     ]
    },
    {
     "data": {
      "text/html": [
       "<table>\n",
       "    <tr>\n",
       "        <th>courseid</th>\n",
       "        <th>userid</th>\n",
       "        <th>num_week</th>\n",
       "        <th>s_all</th>\n",
       "        <th>s_all_avg</th>\n",
       "        <th>s_course_viewed</th>\n",
       "        <th>s_course_viewed_avg</th>\n",
       "        <th>s_q_attempt_viewed</th>\n",
       "        <th>s_q_attempt_viewed_avg</th>\n",
       "        <th>s_a_course_module_viewed</th>\n",
       "        <th>s_a_course_module_viewed_avg</th>\n",
       "        <th>s_a_submission_status_viewed</th>\n",
       "        <th>s_a_submission_status_viewed_avg</th>\n",
       "        <th>namer_level</th>\n",
       "        <th>name_vatt</th>\n",
       "        <th>depart</th>\n",
       "        <th>name_osno</th>\n",
       "        <th>name_formopril</th>\n",
       "        <th>leveled</th>\n",
       "        <th>num_sem</th>\n",
       "        <th>kurs</th>\n",
       "        <th>date_vatt</th>\n",
       "    </tr>\n",
       "    <tr>\n",
       "        <td>71262</td>\n",
       "        <td>34527</td>\n",
       "        <td>6</td>\n",
       "        <td>9</td>\n",
       "        <td>9</td>\n",
       "        <td>4</td>\n",
       "        <td>4</td>\n",
       "        <td>0</td>\n",
       "        <td>0</td>\n",
       "        <td>0</td>\n",
       "        <td>0</td>\n",
       "        <td>0</td>\n",
       "        <td>0</td>\n",
       "        <td>3</td>\n",
       "        <td>Экзамен</td>\n",
       "        <td>22</td>\n",
       "        <td>1</td>\n",
       "        <td>1</td>\n",
       "        <td>1</td>\n",
       "        <td>2</td>\n",
       "        <td>2</td>\n",
       "        <td>18.06.2022</td>\n",
       "    </tr>\n",
       "    <tr>\n",
       "        <td>71262</td>\n",
       "        <td>34527</td>\n",
       "        <td>7</td>\n",
       "        <td>0</td>\n",
       "        <td>4,5</td>\n",
       "        <td>0</td>\n",
       "        <td>2</td>\n",
       "        <td>0</td>\n",
       "        <td>0</td>\n",
       "        <td>0</td>\n",
       "        <td>0</td>\n",
       "        <td>0</td>\n",
       "        <td>0</td>\n",
       "        <td>3</td>\n",
       "        <td>Экзамен</td>\n",
       "        <td>22</td>\n",
       "        <td>1</td>\n",
       "        <td>1</td>\n",
       "        <td>1</td>\n",
       "        <td>2</td>\n",
       "        <td>2</td>\n",
       "        <td>18.06.2022</td>\n",
       "    </tr>\n",
       "    <tr>\n",
       "        <td>71262</td>\n",
       "        <td>34527</td>\n",
       "        <td>8</td>\n",
       "        <td>0</td>\n",
       "        <td>3</td>\n",
       "        <td>0</td>\n",
       "        <td>1,3333</td>\n",
       "        <td>0</td>\n",
       "        <td>0</td>\n",
       "        <td>0</td>\n",
       "        <td>0</td>\n",
       "        <td>0</td>\n",
       "        <td>0</td>\n",
       "        <td>3</td>\n",
       "        <td>Экзамен</td>\n",
       "        <td>22</td>\n",
       "        <td>1</td>\n",
       "        <td>1</td>\n",
       "        <td>1</td>\n",
       "        <td>2</td>\n",
       "        <td>2</td>\n",
       "        <td>18.06.2022</td>\n",
       "    </tr>\n",
       "    <tr>\n",
       "        <td>71262</td>\n",
       "        <td>34527</td>\n",
       "        <td>9</td>\n",
       "        <td>0</td>\n",
       "        <td>2,25</td>\n",
       "        <td>0</td>\n",
       "        <td>1</td>\n",
       "        <td>0</td>\n",
       "        <td>0</td>\n",
       "        <td>0</td>\n",
       "        <td>0</td>\n",
       "        <td>0</td>\n",
       "        <td>0</td>\n",
       "        <td>3</td>\n",
       "        <td>Экзамен</td>\n",
       "        <td>22</td>\n",
       "        <td>1</td>\n",
       "        <td>1</td>\n",
       "        <td>1</td>\n",
       "        <td>2</td>\n",
       "        <td>2</td>\n",
       "        <td>18.06.2022</td>\n",
       "    </tr>\n",
       "    <tr>\n",
       "        <td>71262</td>\n",
       "        <td>34527</td>\n",
       "        <td>10</td>\n",
       "        <td>0</td>\n",
       "        <td>1,8</td>\n",
       "        <td>0</td>\n",
       "        <td>0,8</td>\n",
       "        <td>0</td>\n",
       "        <td>0</td>\n",
       "        <td>0</td>\n",
       "        <td>0</td>\n",
       "        <td>0</td>\n",
       "        <td>0</td>\n",
       "        <td>3</td>\n",
       "        <td>Экзамен</td>\n",
       "        <td>22</td>\n",
       "        <td>1</td>\n",
       "        <td>1</td>\n",
       "        <td>1</td>\n",
       "        <td>2</td>\n",
       "        <td>2</td>\n",
       "        <td>18.06.2022</td>\n",
       "    </tr>\n",
       "    <tr>\n",
       "        <td>71262</td>\n",
       "        <td>34527</td>\n",
       "        <td>11</td>\n",
       "        <td>1</td>\n",
       "        <td>1,6667</td>\n",
       "        <td>1</td>\n",
       "        <td>0,8333</td>\n",
       "        <td>0</td>\n",
       "        <td>0</td>\n",
       "        <td>0</td>\n",
       "        <td>0</td>\n",
       "        <td>0</td>\n",
       "        <td>0</td>\n",
       "        <td>3</td>\n",
       "        <td>Экзамен</td>\n",
       "        <td>22</td>\n",
       "        <td>1</td>\n",
       "        <td>1</td>\n",
       "        <td>1</td>\n",
       "        <td>2</td>\n",
       "        <td>2</td>\n",
       "        <td>18.06.2022</td>\n",
       "    </tr>\n",
       "    <tr>\n",
       "        <td>71262</td>\n",
       "        <td>34527</td>\n",
       "        <td>12</td>\n",
       "        <td>0</td>\n",
       "        <td>1,4286</td>\n",
       "        <td>0</td>\n",
       "        <td>0,7143</td>\n",
       "        <td>0</td>\n",
       "        <td>0</td>\n",
       "        <td>0</td>\n",
       "        <td>0</td>\n",
       "        <td>0</td>\n",
       "        <td>0</td>\n",
       "        <td>3</td>\n",
       "        <td>Экзамен</td>\n",
       "        <td>22</td>\n",
       "        <td>1</td>\n",
       "        <td>1</td>\n",
       "        <td>1</td>\n",
       "        <td>2</td>\n",
       "        <td>2</td>\n",
       "        <td>18.06.2022</td>\n",
       "    </tr>\n",
       "    <tr>\n",
       "        <td>71262</td>\n",
       "        <td>34527</td>\n",
       "        <td>13</td>\n",
       "        <td>0</td>\n",
       "        <td>1,25</td>\n",
       "        <td>0</td>\n",
       "        <td>0,625</td>\n",
       "        <td>0</td>\n",
       "        <td>0</td>\n",
       "        <td>0</td>\n",
       "        <td>0</td>\n",
       "        <td>0</td>\n",
       "        <td>0</td>\n",
       "        <td>3</td>\n",
       "        <td>Экзамен</td>\n",
       "        <td>22</td>\n",
       "        <td>1</td>\n",
       "        <td>1</td>\n",
       "        <td>1</td>\n",
       "        <td>2</td>\n",
       "        <td>2</td>\n",
       "        <td>18.06.2022</td>\n",
       "    </tr>\n",
       "    <tr>\n",
       "        <td>71262</td>\n",
       "        <td>34527</td>\n",
       "        <td>14</td>\n",
       "        <td>0</td>\n",
       "        <td>1,1111</td>\n",
       "        <td>0</td>\n",
       "        <td>0,5556</td>\n",
       "        <td>0</td>\n",
       "        <td>0</td>\n",
       "        <td>0</td>\n",
       "        <td>0</td>\n",
       "        <td>0</td>\n",
       "        <td>0</td>\n",
       "        <td>3</td>\n",
       "        <td>Экзамен</td>\n",
       "        <td>22</td>\n",
       "        <td>1</td>\n",
       "        <td>1</td>\n",
       "        <td>1</td>\n",
       "        <td>2</td>\n",
       "        <td>2</td>\n",
       "        <td>18.06.2022</td>\n",
       "    </tr>\n",
       "    <tr>\n",
       "        <td>71262</td>\n",
       "        <td>34527</td>\n",
       "        <td>15</td>\n",
       "        <td>1</td>\n",
       "        <td>1,1</td>\n",
       "        <td>1</td>\n",
       "        <td>0,6</td>\n",
       "        <td>0</td>\n",
       "        <td>0</td>\n",
       "        <td>0</td>\n",
       "        <td>0</td>\n",
       "        <td>0</td>\n",
       "        <td>0</td>\n",
       "        <td>3</td>\n",
       "        <td>Экзамен</td>\n",
       "        <td>22</td>\n",
       "        <td>1</td>\n",
       "        <td>1</td>\n",
       "        <td>1</td>\n",
       "        <td>2</td>\n",
       "        <td>2</td>\n",
       "        <td>18.06.2022</td>\n",
       "    </tr>\n",
       "</table>"
      ],
      "text/plain": [
       "[('71262', '34527', 6, 9, '9', 4, '4', 0, '0', 0, '0', 0, '0', '3', 'Экзамен', '22', 1, 1, 1, 2, 2, '18.06.2022'),\n",
       " ('71262', '34527', 7, 0, '4,5', 0, '2', 0, '0', 0, '0', 0, '0', '3', 'Экзамен', '22', 1, 1, 1, 2, 2, '18.06.2022'),\n",
       " ('71262', '34527', 8, 0, '3', 0, '1,3333', 0, '0', 0, '0', 0, '0', '3', 'Экзамен', '22', 1, 1, 1, 2, 2, '18.06.2022'),\n",
       " ('71262', '34527', 9, 0, '2,25', 0, '1', 0, '0', 0, '0', 0, '0', '3', 'Экзамен', '22', 1, 1, 1, 2, 2, '18.06.2022'),\n",
       " ('71262', '34527', 10, 0, '1,8', 0, '0,8', 0, '0', 0, '0', 0, '0', '3', 'Экзамен', '22', 1, 1, 1, 2, 2, '18.06.2022'),\n",
       " ('71262', '34527', 11, 1, '1,6667', 1, '0,8333', 0, '0', 0, '0', 0, '0', '3', 'Экзамен', '22', 1, 1, 1, 2, 2, '18.06.2022'),\n",
       " ('71262', '34527', 12, 0, '1,4286', 0, '0,7143', 0, '0', 0, '0', 0, '0', '3', 'Экзамен', '22', 1, 1, 1, 2, 2, '18.06.2022'),\n",
       " ('71262', '34527', 13, 0, '1,25', 0, '0,625', 0, '0', 0, '0', 0, '0', '3', 'Экзамен', '22', 1, 1, 1, 2, 2, '18.06.2022'),\n",
       " ('71262', '34527', 14, 0, '1,1111', 0, '0,5556', 0, '0', 0, '0', 0, '0', '3', 'Экзамен', '22', 1, 1, 1, 2, 2, '18.06.2022'),\n",
       " ('71262', '34527', 15, 1, '1,1', 1, '0,6', 0, '0', 0, '0', 0, '0', '3', 'Экзамен', '22', 1, 1, 1, 2, 2, '18.06.2022')]"
      ]
     },
     "execution_count": 10,
     "metadata": {},
     "output_type": "execute_result"
    }
   ],
   "source": [
    "%%sql postgresql:///test\n",
    "    SELECT * FROM logs LIMIT 10"
   ]
  },
  {
   "cell_type": "markdown",
   "id": "81903c93-1df6-484d-b254-7ab7c9db6d13",
   "metadata": {},
   "source": [
    "## Задание 1:\n",
    "\n",
    "Измените данные вещественного типа, сейчас целая и дробная часть разделены запятой, замените ее на точку. \n",
    "\n",
    "Выведите первые 10 записей, чтобы проверить результат предобработки. "
   ]
  },
  {
   "cell_type": "markdown",
   "id": "24c872f9-fbee-4126-b43b-3223372f0227",
   "metadata": {},
   "source": [
    "## Задание 2: \n",
    "\n",
    "Выведите количество кафедр, за которыми закреплены курсы на портале.\n",
    "\n",
    "\n",
    "\n"
   ]
  },
  {
   "cell_type": "markdown",
   "id": "d98cb395-0b2d-41ab-9a91-af59a4bc9ec8",
   "metadata": {},
   "source": [
    "##  Задание 3:\n",
    "\n",
    "Выведите сколько у каждой кафедры закреплено электронных курсов на портале. \n",
    "\n",
    "У какой кафедры больше всего курсов на портале?"
   ]
  },
  {
   "cell_type": "markdown",
   "id": "5e8aa54c-0d5c-48e9-b181-08b03804ce0c",
   "metadata": {},
   "source": [
    "## Задание 4:\n",
    "\n",
    "Имеется информация о кодировании каждой кафедры:\n",
    "\n",
    "| Id  | Name     | Id  | Name     | Id  | Name     | Id  | Name     |\n",
    "|-----|---------|-----|---------|-----|---------|-----|---------|\n",
    "| 1   | АиИИ    | 12  | ИиИБ    | 23  | ПОиД    | 34  | УСиБА    |\n",
    "| 2   | АСУ     | 13  | ИТМ     | 24  | Психол. | 35  | Физики   |\n",
    "| 3   | АЭПиМ   | 14  | ЛиП     | 25  | ПЭиБЖД  | 36  | Физкульт.|\n",
    "| 4   | БИиИТ   | 15  | ЛиУТС   | 26  | РМПИ    | 37  | Химии    |\n",
    "| 5   | ВИ      | 16  | ЛПиМ    | 27  | РЯОЯиМК | 38  | ХОМ      |\n",
    "| 6   | ВТиП    | 17  | Менеджм.| 28  | СРиППО  | 39  | ЦДОМ     |\n",
    "| 7   | ГМДиОПИ | 18  | МиТОДиМ | 29  | CC      | 40  | ЭиМЭ     |\n",
    "| 8   | ГМиТТК  | 19  | МиХТ    | 30  | ТиЭС    | 41  | Эконом.  |\n",
    "| 9   | ГМУиУП  | 20  | ПиСЗ    | 31  | ТОМ     | 42  | ЭПП      |\n",
    "| 10  | Дизайна | 21  | ПиЭММО  | 32  | ТССА    | 43  | ЯиЛ      |\n",
    "| 11  | ДиСО    | 22  | ПМиИ    | 33  | УиИС    |     |          |\n",
    "\n",
    "\n",
    "Создайте отдельно таблицу со справочником (номер кафедры и название(аббревиатура) кафедры) departments.\n",
    "\n",
    "Внесите данные в таблицу. "
   ]
  },
  {
   "cell_type": "markdown",
   "id": "479df567-bfb3-4a98-8131-ee5e75b638ac",
   "metadata": {},
   "source": [
    "## Задание 5:\n",
    "\n",
    "Выполните задание 3, но теперь нужно вывести не код кафедры, а ее название и количество курсов, которые за ней закреплены. \n",
    "\n",
    "У какой кафедры больше всего курсов?"
   ]
  },
  {
   "cell_type": "markdown",
   "id": "6fa6c914-75da-4327-a55a-878653561e56",
   "metadata": {},
   "source": [
    "## Задание 6:\n",
    "\n",
    "Ответьте на вопрос: существуют ли курсы, за которыми закреплено несколько кафедр? Если такие курсы есть, то выведите их количество.\n",
    "Также выведите названия кафедр, которые совместно преподают один и тот же курс.\n",
    "\n",
    "\n"
   ]
  },
  {
   "cell_type": "markdown",
   "id": "9c01df50-0b70-40ed-a233-3d53a550cde8",
   "metadata": {},
   "source": [
    "## Задание 7:\n",
    "\n",
    "Выведите количество студентов, которые получили 2, 3, 4, 5.\n",
    "\n",
    "Пример вывода:\n",
    "\n",
    "| namer_level |\tcount |\n",
    "|-----|------|\n",
    "|2 |\t4 |\n",
    "|3 |\t3435 |\n",
    "|4 | \t4676765|\n",
    "|5 | 232 |\n"
   ]
  },
  {
   "cell_type": "markdown",
   "id": "1f27429c-2f61-433d-8a09-dfd718eeb90d",
   "metadata": {},
   "source": [
    "## Задание 6:\n",
    "\n",
    "Выведите студента, который больше всех работает на портале (у него максимальное количество логов за вест период обучения)."
   ]
  },
  {
   "cell_type": "markdown",
   "id": "866a02d3-2f60-4b27-a538-7b30d7f9cd9d",
   "metadata": {},
   "source": [
    "## Задание 9:\n",
    "\n",
    "Выведите по каждой недели среднее количество всех событий на портале."
   ]
  },
  {
   "cell_type": "markdown",
   "id": "c638a3ad-aacb-448e-9df5-3f0d167b4e3d",
   "metadata": {},
   "source": [
    "## Задание 10: \n",
    "\n",
    "Выведите название кафедры, у которой больше всего отличников.\n",
    "\n",
    "Отдельно выведите название кафедры, у которой больше всего двоечников. "
   ]
  }
 ],
 "metadata": {
  "kernelspec": {
   "display_name": "Python 3 (ipykernel)",
   "language": "python",
   "name": "python3"
  },
  "language_info": {
   "codemirror_mode": {
    "name": "ipython",
    "version": 3
   },
   "file_extension": ".py",
   "mimetype": "text/x-python",
   "name": "python",
   "nbconvert_exporter": "python",
   "pygments_lexer": "ipython3",
   "version": "3.12.7"
  }
 },
 "nbformat": 4,
 "nbformat_minor": 5
}

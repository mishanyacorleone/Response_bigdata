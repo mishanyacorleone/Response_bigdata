{
 "cells": [
  {
   "cell_type": "markdown",
   "id": "921ee437-c328-4937-8cdc-b7718fbc6d86",
   "metadata": {},
   "source": [
    "# Визуализация данных с использованием Plotly\n",
    "\n",
    "Plotly – это библиотека с открытым исходным кодом для Python и R, которая отлично подходит для создания красивых и интерактивных визуализаций.\n",
    "\n",
    "Plotly — библиотека для визуализации данных, состоящая из нескольких частей:\n",
    "- Front-End на JS\n",
    "- Back-End на Python (за основу взята библиотека Seaborn)\n",
    "- Back-End на R\n",
    "\n",
    "Plotly позволяет строить интерактивные визуализации. \n",
    "\n",
    "Документация:\n",
    "\n",
    "- [Plotly](https://plotly.com/)\n",
    "\n",
    "- [Plotly.Express](https://plotly.com/python/plotly-express/)\n",
    "\n",
    "- [Plotly.Dash](https://dash.plotly.com/) - построение дашбордов\n",
    "\n"
   ]
  },
  {
   "cell_type": "code",
   "execution_count": null,
   "id": "89597cfe-7af5-42ad-a777-821a520a1458",
   "metadata": {},
   "outputs": [],
   "source": [
    "import pandas as pd\n",
    "import seaborn as sns\n",
    "import matplotlib.pyplot as plt\n",
    "import plotly.express as px\n",
    "import plotly.graph_objects as go"
   ]
  },
  {
   "cell_type": "code",
   "execution_count": null,
   "id": "f06b290e-4bd4-4273-833d-db889fa10cb3",
   "metadata": {},
   "outputs": [],
   "source": [
    "df = pd.read_csv('datasets/aggrigation_logs_per_week.csv')\n",
    "df"
   ]
  },
  {
   "cell_type": "code",
   "execution_count": null,
   "id": "64e68a24-62ce-4fdf-9494-abb0f1440bbc",
   "metadata": {},
   "outputs": [],
   "source": [
    "df.info()"
   ]
  },
  {
   "cell_type": "markdown",
   "id": "d1202024-76e0-4c60-add5-11c272677989",
   "metadata": {},
   "source": [
    "## Задание 1: Проведите предобработку набора данных\n",
    "\n",
    "Преобразуйте столбцы, содержащие вещественные значения к типу float."
   ]
  },
  {
   "cell_type": "code",
   "execution_count": null,
   "id": "46445d9e-0e18-40f2-ab43-c8bee62ea76c",
   "metadata": {},
   "outputs": [],
   "source": [
    "# ваш код"
   ]
  },
  {
   "cell_type": "code",
   "execution_count": null,
   "id": "33fbfcef-88f9-4b61-b8ab-58b3833a25c5",
   "metadata": {},
   "outputs": [],
   "source": [
    "df['s_all_avg'] = df['s_all_avg'].str.replace(',','.')\n",
    "df['s_all_avg']= df['s_all_avg'].astype('float')\n",
    "df ['s_course_viewed_avg'] =df ['s_course_viewed_avg'].str.replace(',','.').astype('float')\n",
    "df['s_q_attempt_viewed_avg'] = df['s_q_attempt_viewed_avg'].str.replace(',','.').astype('float')"
   ]
  },
  {
   "cell_type": "code",
   "execution_count": null,
   "id": "69705f56-2da6-4016-a2ae-bd88f95ffe58",
   "metadata": {},
   "outputs": [],
   "source": [
    "df['s_a_submission_status_viewed_avg'] = df['s_a_submission_status_viewed_avg'].str.replace(',','.').astype('float')"
   ]
  },
  {
   "cell_type": "markdown",
   "id": "193df1cc-37da-4e52-a4da-07dd08f26baa",
   "metadata": {},
   "source": [
    "## Примеры визуализаций\n",
    "Построим столбчатую диаграмму количества студентов по каждому семестру. \n",
    "- Метод px.bar() - передаем данные для построения диаграммы\n",
    "- Функция fig.update_layout() - настройки общего оформления графика (layout): заголовки осей, легенда, фон, отступы, шрифты и другие параметры визуализации."
   ]
  },
  {
   "cell_type": "code",
   "execution_count": null,
   "id": "2bed7c6b-2ca8-4b23-a66f-53b8afbb66be",
   "metadata": {},
   "outputs": [],
   "source": [
    "# Группируем по семестру и считаем количество уникальных студентов\n",
    "df_grouped = df.groupby(\"Num_Sem\")[\"userid\"].nunique().reset_index()\n",
    "df_grouped.rename(columns={\"userid\": \"num_students\"}, inplace=True)\n",
    "\n",
    "# Строим столбчатую диаграмму\n",
    "fig = px.bar(\n",
    "    df_grouped, \n",
    "    x=\"Num_Sem\", \n",
    "    y=\"num_students\", \n",
    "    text=\"num_students\",  # Подписи с количеством студентов\n",
    "    color=\"num_students\", \n",
    "    title=\"Количество студентов, изучающих дисциплины в семестр\",\n",
    "    labels={\"Num_Sem\": \"Семестр\", \"num_students\": \"Количество студентов\"},\n",
    "    color_continuous_scale=\"viridis\"\n",
    ")\n",
    "\n",
    "fig.update_layout(\n",
    "    xaxis_title=\"Номер семестра\",\n",
    "    yaxis_title=\"Количество студентов\",\n",
    "    template=\"plotly_white\"\n",
    ")\n",
    "\n",
    "fig.show()"
   ]
  },
  {
   "cell_type": "markdown",
   "id": "f4969834-8395-46b7-ba78-2d3a6ab5b377",
   "metadata": {},
   "source": [
    "Построим точечную диаграмму количества студентов по каждому семестру. \n",
    "\n",
    "px.scatter() - передаем данные для построения диаграммы. "
   ]
  },
  {
   "cell_type": "code",
   "execution_count": null,
   "id": "09b854d2-3255-4fa7-8c9d-436b683d75c8",
   "metadata": {},
   "outputs": [],
   "source": [
    "# Группируем по семестру и считаем количество уникальных студентов\n",
    "df_grouped = df.groupby(\"Num_Sem\")[\"userid\"].nunique().reset_index()\n",
    "df_grouped.rename(columns={\"userid\": \"num_students\"}, inplace=True)\n",
    "\n",
    "# Строим точечную диаграмму (scatter plot)\n",
    "fig = px.scatter(\n",
    "    df_grouped, \n",
    "    x=\"Num_Sem\", \n",
    "    y=\"num_students\", \n",
    "    text=\"num_students\",  # Подписи значений\n",
    "    color=\"num_students\", \n",
    "    size=\"num_students\",  # Размер точек зависит от количества студентов\n",
    "    title=\"Количество студентов, изучающих дисциплины в семестр\",\n",
    "    labels={\"Num_Sem\": \"Семестр\", \"num_students\": \"Количество студентов\"},\n",
    "    color_continuous_scale=\"viridis\"\n",
    ")\n",
    "\n",
    "fig.update_layout(\n",
    "    xaxis_title=\"Номер семестра\",\n",
    "    yaxis_title=\"Количество студентов\",\n",
    "    template=\"plotly_white\"\n",
    ")\n",
    "\n",
    "# Добавляем подписи точек выше самих точек\n",
    "fig.update_traces(\n",
    "    textposition='top center',\n",
    "    marker=dict(\n",
    "        line=dict(width=1, color='DarkSlateGrey')\n",
    "    )\n",
    ")\n",
    "\n",
    "fig.show()"
   ]
  },
  {
   "cell_type": "markdown",
   "id": "6ece5e90-d5fe-43c5-86a6-7e7c0ad15618",
   "metadata": {},
   "source": [
    "Построим интерактивный график активности студентов по неделям\n",
    "Используем plotly.express.area для построения графика изменения активности студентов (s_all) по неделям (num_week). Дополнительно, разделим данные по курсам (Kurs), чтобы увидеть, как активность различается среди студентов разных курсов.\n",
    "Построить график px.area, где:\n",
    "- Ось X — num_week (номер недели семестра)\n",
    "- Ось Y — s_all (общее количество событий)\n",
    "- Цветовая группировка — Kurs (номер курса студента)\n",
    "- Добавить анимацию по семестрам (Num_Sem), чтобы увидеть динамику активности студентов разных курсов (свойство -  animation_frame)."
   ]
  },
  {
   "cell_type": "code",
   "execution_count": null,
   "id": "5c33c5b3-5ecf-4c50-a265-1e876769267a",
   "metadata": {},
   "outputs": [],
   "source": [
    "# Преобразуем колонки с числами, если они хранятся как строки\n",
    "numeric_cols = [\"s_all\", \"s_all_avg\", \"s_course_viewed\", \"s_course_viewed_avg\",\n",
    "                \"s_q_attempt_viewed\", \"s_q_attempt_viewed_avg\", \"s_a_course_module_viewed\",\n",
    "                \"s_a_course_module_viewed_avg\", \"s_a_submission_status_viewed\", \"s_a_submission_status_viewed_avg\"]\n",
    "for col in numeric_cols:\n",
    "    df[col] = pd.to_numeric(df[col], errors=\"coerce\")  # Преобразуем к float\n",
    "\n",
    "# Строим график активности студентов по неделям\n",
    "fig = px.area(\n",
    "    df, \n",
    "    x=\"num_week\", \n",
    "    y=\"s_all\", \n",
    "    color=\"Kurs\",  # Разделение по курсам\n",
    "    line_group=\"Kurs\", \n",
    "    title=\"Динамика активности студентов в течение семестра\",\n",
    "    labels={\"num_week\": \"Неделя\", \"s_all\": \"Количество событий\", \"Kurs\": \"Курс\"},\n",
    "    animation_frame=\"Num_Sem\"  # Анимация по семестрам\n",
    ")\n",
    "\n",
    "fig.show()"
   ]
  },
  {
   "cell_type": "markdown",
   "id": "decdbb95-3552-40c9-b35c-50d9e9321310",
   "metadata": {},
   "source": [
    "## Задание 2. Влияние формы обучения на активность\n",
    "Решите гипотезу: студенты, обучающиеся на контракте, менее активны на портале по сравнению с бюджетниками.\n",
    "\n",
    "Что визуализировать: \n",
    "Различие в среднем числе взаимодействий между группами (\"Name_OsnO\") по следующим показателями: \"s_all_avg\", \"s_course_viewed_avg\", \"s_q_attempt_viewed_avg\".\n",
    "Необходимо использовать в  plotly.express Boxplot распределения активности для бюджетников и контрактников."
   ]
  },
  {
   "cell_type": "code",
   "execution_count": null,
   "id": "f6707d98-5c30-487b-b903-ecc5dae65d7c",
   "metadata": {},
   "outputs": [],
   "source": [
    "fig1 = px.box(\n",
    "    df,\n",
    "    x=\"Name_OsnO\",\n",
    "    y=\"s_all_avg\",\n",
    "    color=\"Name_OsnO\",\n",
    "    title=\"Общее количество взаимодействий (s_all_avg)\",\n",
    "    labels={\"Name_OsnO\": \"Форма обучения\", \"s_all_avg\": \"Среднее количество взаимодействий\"}\n",
    ")\n",
    "fig1.show()"
   ]
  },
  {
   "cell_type": "code",
   "execution_count": null,
   "id": "798ddd9d-153b-4b2a-9922-025ec9b399a0",
   "metadata": {},
   "outputs": [],
   "source": [
    "fig2 = px.box(\n",
    "    df,\n",
    "    x=\"Name_OsnO\",\n",
    "    y=\"s_course_viewed_avg\",\n",
    "    color=\"Name_OsnO\",\n",
    "    title=\"Среднее количество просмотра курсов (s_course_viewed_avg)\",\n",
    "    labels={\"Name_OsnO\": \"Форма обучения\", \"s_course_viewed_avg\": \"Среднее количество просмотра курсов\"}\n",
    ")\n",
    "fig2.show()"
   ]
  },
  {
   "cell_type": "code",
   "execution_count": null,
   "id": "aa957049-bf82-4ebc-b8fb-2b5d62bbdbfd",
   "metadata": {},
   "outputs": [],
   "source": [
    "fig3 = px.box(\n",
    "    df,\n",
    "    x=\"Name_OsnO\",\n",
    "    y=\"s_q_attempt_viewed_avg\",\n",
    "    color=\"Name_OsnO\",\n",
    "    title=\"Среднее количество просмотров попыток тестов (s_q_attempt_viewed_avg)\",\n",
    "    labels={\"Name_OsnO\": \"Форма обучения\", \"s_q_attempt_viewed_avg\": \"Среднее количество просмотров попыток тестов\"}\n",
    ")\n",
    "fig3.show()"
   ]
  },
  {
   "cell_type": "markdown",
   "id": "069af1f4-503f-45f2-bf0f-fe4c77ed864f",
   "metadata": {},
   "source": [
    "Ваш ответ: ...."
   ]
  },
  {
   "cell_type": "markdown",
   "id": "6dd7c4a3-a4de-4dcf-b809-450220c69de4",
   "metadata": {},
   "source": [
    "# Задание 3. Динамика активности студентов по неделям\n",
    "Гипотеза: Активность студентов увеличивается перед сессией и уменьшается после неё.\n",
    "\n",
    "Постройте линейный график изменения активности (s_all) по неделям (num_week).\n",
    "Сравнить активность по курсам (kurs). Все курсы должны отображаться на одной диаграмме. "
   ]
  },
  {
   "cell_type": "code",
   "execution_count": null,
   "id": "33b3371f-8c0b-4b01-8252-b4d96fcdfa4f",
   "metadata": {},
   "outputs": [],
   "source": [
    "df_grouped = df.groupby(['num_week', 'Kurs'])['s_all'].mean().reset_index()\n",
    "fig = px.line(\n",
    "    df_grouped,\n",
    "    x='num_week',\n",
    "    y='s_all',\n",
    "    color='Kurs',\n",
    "    markers=True,\n",
    "    title='Активность студентов по неделям (s_all)',\n",
    "    labels={\n",
    "        'num_week': 'Номер недели',\n",
    "        's_all': 'Средняя активность за неделю (s_all)',\n",
    "        'Kurs': 'Курс'\n",
    "    }\n",
    ")\n",
    "\n",
    "fig.show()"
   ]
  },
  {
   "cell_type": "code",
   "execution_count": null,
   "id": "462fc2eb-c4b3-4e71-9077-dd77fb3eea92",
   "metadata": {},
   "outputs": [],
   "source": []
  },
  {
   "cell_type": "markdown",
   "id": "641891de-c315-412b-93b7-72ff3d03eb26",
   "metadata": {},
   "source": [
    "Ваш ответ: ...."
   ]
  },
  {
   "cell_type": "markdown",
   "id": "e7fbaeaa-d24e-4ebc-ab30-504d798dd420",
   "metadata": {},
   "source": [
    "## Задание 4: Проанализировать динамику активности студентов с разным уровнем успеваемости (NameR_Level) в течение всего семестра.\n",
    "Решите гипотезу: успеваемость студентов зависит от динамики их активности на образовательном портале в течение всего семестра. \n",
    "\n",
    "Построить линейный график (px.line), где:\n",
    "X-ось — num_week (номер недели семестра)\n",
    "Y-ось — s_all (общее количество событий)\n",
    "Цветовая группировка — NameR_Level (успеваемость: отличники, хорошисты, троечники, двоечники)"
   ]
  },
  {
   "cell_type": "code",
   "execution_count": null,
   "id": "78c9a229-945c-4dd5-8922-baa9b4a57b1f",
   "metadata": {},
   "outputs": [],
   "source": [
    "df_grouped = df.groupby(['num_week', 'NameR_Level'])['s_all'].mean().reset_index()\n",
    "\n",
    "fig = px.line(\n",
    "    df_grouped,\n",
    "    x='num_week',\n",
    "    y='s_all',\n",
    "    color='NameR_Level',\n",
    "    markers=True,\n",
    "    title='Активность студентов по неделям (s_all)',\n",
    "    labels={\n",
    "        'num_week': 'Номер недели',\n",
    "        's_all': 'Средняя активность за неделю (s_all)',\n",
    "        'NameR_Level': 'Оценка'\n",
    "    }\n",
    ")\n",
    "\n",
    "fig.show()"
   ]
  },
  {
   "cell_type": "markdown",
   "id": "47921f4f-f675-40e8-8c9b-5cb01e39403e",
   "metadata": {},
   "source": [
    "Ваш ответ: ...."
   ]
  },
  {
   "cell_type": "markdown",
   "id": "c106f2b0-a441-4771-88e9-f95f611929f4",
   "metadata": {},
   "source": [
    "# Задание 5. Различие в активности бакалавров и магистров\n",
    "Гипотеза: Магистранты взаимодействуют с курсами иначе, чем бакалавры.\n",
    "\n",
    "Построить воронку (метод go.Funnel()) активности студентов (s_course_viewed, s_q_attempt_viewed, s_a_submission_status_viewed) в зависимости от уровня образования (leveled)."
   ]
  },
  {
   "cell_type": "code",
   "execution_count": null,
   "id": "6f463ea5-f28c-4b80-b914-d9673f28ca6a",
   "metadata": {},
   "outputs": [],
   "source": [
    "# Проверяем, какие значения есть в LevelEd\n",
    "print(df[\"LevelEd\"].unique())  \n",
    "\n",
    "# закодируем типы обучения\n",
    "df[\"LevelEd\"] = df[\"LevelEd\"].replace({1: \"бакалавриат\", 2: \"магистратура\", 3: \"специалитет\", 4: \"аспирантура\"})\n",
    "\n",
    "# Группируем данные\n",
    "df_level = df.groupby(\"LevelEd\")[[\"s_course_viewed\", \"s_q_attempt_viewed\", \"s_a_submission_status_viewed\"]].mean().reset_index()\n",
    "\n",
    "print(df_level)\n",
    "\n",
    "# Строим воронку\n",
    "fig = go.Figure()\n",
    "fig.add_trace(go.Funnel(\n",
    "    name=\"Бакалавриат\",\n",
    "    y=[\"Просмотры курса\", \"Просмотры тестов\", \"Отправка заданий\"],\n",
    "    x=df_level[df_level[\"LevelEd\"] == \"бакалавриат\"].iloc[:, 1:].values.flatten()\n",
    "))\n",
    "fig.add_trace(go.Funnel(\n",
    "    name=\"Магистратура\",\n",
    "    y=[\"Просмотры курса\", \"Просмотры тестов\", \"Отправка заданий\"],\n",
    "    x=df_level[df_level[\"LevelEd\"] == \"магистратура\"].iloc[:, 1:].values.flatten()\n",
    "))\n",
    "\n",
    "fig.update_layout(title=\"Различие в активности бакалавров и магистров\")\n",
    "\n",
    "# Показываем график\n",
    "fig.show()"
   ]
  },
  {
   "cell_type": "markdown",
   "id": "9a55517d-c49e-4e0a-bc96-7cda1055de30",
   "metadata": {},
   "source": [
    "Ваш ответ: ...."
   ]
  },
  {
   "cell_type": "markdown",
   "id": "41fc762b-7f97-4eb0-8ceb-5cd24f0a9467",
   "metadata": {},
   "source": [
    "## Задание 6. Различие в активности отличников, хорошистов, троечников и двоечников \n",
    "Гипотеза: Студенты с разным уровнем успеваемостью взаимодействуют с курсами иначе.\n",
    "\n",
    "Построить воронку активности студентов (s_course_viewed, s_q_attempt_viewed, s_a_submission_status_viewed) в зависимости от уровня успеваемости (NameR_Level)."
   ]
  },
  {
   "cell_type": "code",
   "execution_count": null,
   "id": "4972b8c4-3ee8-4d15-8245-9d7b9a3d333d",
   "metadata": {},
   "outputs": [],
   "source": [
    "df_level = df.groupby(\"NameR_Level\")[[\"s_course_viewed\", \"s_q_attempt_viewed\", \"s_a_submission_status_viewed\"]].mean().reset_index()\n",
    "\n",
    "print(df_level)\n",
    "\n",
    "# Строим воронку\n",
    "fig = go.Figure()\n",
    "fig.add_trace(go.Funnel(\n",
    "    name=\"Двоечники\",\n",
    "    y=[\"Просмотры курса\", \"Просмотры тестов\", \"Отправка заданий\"],\n",
    "    x=df_level[df_level[\"NameR_Level\"] == 2].iloc[:, 1:].values.flatten()\n",
    "))\n",
    "\n",
    "fig.add_trace(go.Funnel(\n",
    "    name=\"Троечники\",\n",
    "    y=[\"Просмотры курса\", \"Просмотры тестов\", \"Отправка заданий\"],\n",
    "    x=df_level[df_level[\"NameR_Level\"] == 3].iloc[:, 1:].values.flatten()\n",
    "))\n",
    "\n",
    "fig.add_trace(go.Funnel(\n",
    "    name=\"Хорошисты\",\n",
    "    y=[\"Просмотры курса\", \"Просмотры тестов\", \"Отправка заданий\"],\n",
    "    x=df_level[df_level[\"NameR_Level\"] == 4].iloc[:, 1:].values.flatten()\n",
    "))\n",
    "\n",
    "fig.add_trace(go.Funnel(\n",
    "    name=\"Отличники\",\n",
    "    y=[\"Просмотры курса\", \"Просмотры тестов\", \"Отправка заданий\"],\n",
    "    x=df_level[df_level[\"NameR_Level\"] == 5].iloc[:, 1:].values.flatten()\n",
    "))\n",
    "\n",
    "fig.update_layout(title=\"Различие в активности студентов с разной успеваемостью\")\n",
    "\n",
    "# Показываем график\n",
    "fig.show()"
   ]
  },
  {
   "cell_type": "markdown",
   "id": "c31accd5-2903-4ea0-832a-0b55bda4822d",
   "metadata": {},
   "source": [
    "## Задание 7:  Распределение студентов по кафедрам \n",
    "Определим распределение студентов по кафедрам, однаковое ли количество студентов?\n",
    "\n",
    "Постройте горизонтальную столбчатую диаграмму (bar chart) для сравнения количества студентов на разных кафедрах.\n",
    "Добавим интерактивность, цветовую палитру и подписи. На диаграмме должны быть выведены названия кафедр (возьмите данную информацию из Task 4.)"
   ]
  },
  {
   "cell_type": "code",
   "execution_count": null,
   "id": "f3dc7f7f-23c0-47c0-b1f7-f0717f28de50",
   "metadata": {},
   "outputs": [],
   "source": [
    "department_names = {\n",
    "    1: 'АиИИ', 2: 'АСУ', 3: 'АЭПиМ', 4: 'БИиИТ', 5: 'ВИ',\n",
    "    6: 'ВТиП', 7: 'ГМДиОПИ', 8: 'ГМиТТК', 9: 'ГМУиУП', 10: 'Дизайна',\n",
    "    11: 'ДиСО', 12: 'ИиИБ', 13: 'ИТМ', 14: 'ЛиП', 15: 'ЛиУТС',\n",
    "    16: 'ЛПиМ', 17: 'Менеджм.', 18: 'МиТОДиМ', 19: 'МиХТ', 20: 'ПиСЗ',\n",
    "    21: 'ПиЭММО', 22: 'ПМиИ', 23: 'ПОиД', 24: 'Психол.', 25: 'ПЭиБЖД',\n",
    "    26: 'РМПИ', 27: 'РЯОЯиМК', 28: 'СРиППО', 29: 'CC', 30: 'ТиЭС',\n",
    "    31: 'ТОМ', 32: 'ТССА', 33: 'УиИС', 34: 'УСиБА', 35: 'Физики',\n",
    "    36: 'Физкульт.', 37: 'Химии', 38: 'ХОМ', 39: 'ЦДОМ', 40: 'ЭиМЭ',\n",
    "    41: 'Эконом.', 42: 'ЭПП', 43: 'ЯиЛ'\n",
    "}\n",
    "\n",
    "df_unique = df.drop_duplicates(subset='userid')\n",
    "student_counts = df_unique['Depart'].value_counts().reset_index()\n",
    "student_counts.columns = ['Depart', 'Количество студентов']"
   ]
  },
  {
   "cell_type": "code",
   "execution_count": null,
   "id": "0f0f4bed-02cc-4f12-87c9-c208a06560f7",
   "metadata": {},
   "outputs": [],
   "source": [
    "student_counts['Кафедра'] = student_counts['Depart'].map(department_names)"
   ]
  },
  {
   "cell_type": "code",
   "execution_count": null,
   "id": "d38815b4-5d9b-4b6c-9b6e-9fd480d9bd44",
   "metadata": {},
   "outputs": [],
   "source": [
    "student_counts"
   ]
  },
  {
   "cell_type": "code",
   "execution_count": null,
   "id": "fc641066-a973-4113-926c-c2e2e31cbe38",
   "metadata": {},
   "outputs": [],
   "source": [
    "fig = px.bar(\n",
    "    student_counts,\n",
    "    x='Количество студентов',\n",
    "    y='Кафедра',\n",
    "    orientation='h',\n",
    "    color='Кафедра',\n",
    "    title='Количество уникальных студентов по кафедрам'\n",
    ")\n",
    "\n",
    "fig.show()"
   ]
  },
  {
   "cell_type": "markdown",
   "id": "57bc690d-d516-4af3-be4a-70f1a9f617b8",
   "metadata": {
    "editable": true,
    "slideshow": {
     "slide_type": ""
    },
    "tags": []
   },
   "source": [
    "## Задание 8: Зависимость среднего балла от количества студентов на кафедре\n",
    "Гипотеза: количество студентов, закрепленных на отдельной кафедре влияет на средний балл успеваемости по кафедрам.\n",
    "\n",
    "Построить диаграмму рассевания по количеству студентов, среднему баллу, наванию кафедры. Параметр  size='num_students' - количество студентов. "
   ]
  },
  {
   "cell_type": "code",
   "execution_count": null,
   "id": "088c2a4f-926f-4fc5-8253-85c2f6aec702",
   "metadata": {},
   "outputs": [],
   "source": [
    "df.info()"
   ]
  },
  {
   "cell_type": "code",
   "execution_count": null,
   "id": "a9efe534-ee49-40d3-aa03-bdcc36a41d8e",
   "metadata": {},
   "outputs": [],
   "source": [
    "df[:5]"
   ]
  },
  {
   "cell_type": "code",
   "execution_count": null,
   "id": "ff94f5b1-d827-41b5-b86e-eb24b0538968",
   "metadata": {},
   "outputs": [],
   "source": [
    "df_depart = (df.groupby('Depart').agg(avg_mark=('NameR_Level', 'mean'), count_students=('userid', 'nunique')).reset_index())\n",
    "df_depart['Depart'] = df_depart['Depart'].map(department_names)\n",
    "df_depart"
   ]
  },
  {
   "cell_type": "code",
   "execution_count": null,
   "id": "625614b1-5da5-4819-941b-08bdaabfd88e",
   "metadata": {},
   "outputs": [],
   "source": [
    "fig = px.scatter(\n",
    "    df_depart,\n",
    "    x='count_students',\n",
    "    y='avg_mark',\n",
    "    size='count_students',\n",
    "    color='Depart',\n",
    "    hover_name='Depart',\n",
    "    title='Зависимость среднего балла от количества студентов на кафедре',\n",
    "    labels={'count_students': 'Число студентов', 'avg_mark': 'Средний балл'}\n",
    ")\n",
    "\n",
    "fig.show()"
   ]
  },
  {
   "cell_type": "markdown",
   "id": "2bef6ebf-1a37-4259-9312-4820c15ea780",
   "metadata": {},
   "source": [
    "Ваш ответ: ...."
   ]
  },
  {
   "cell_type": "markdown",
   "id": "ba213286-9262-4b94-a9b1-c63e0b7cf89b",
   "metadata": {},
   "source": [
    "## Задание 9: Результаты кластеризации студентов (часть 1)\n",
    "Примечание: В Task5 вы реализовали кластеризацию студентов деятельности студентов, разбив их на 3 кластера. \n",
    "Вам необходимо визуализировать результаты кластеризации.\n",
    "\n",
    "Гипотеза: студентов с низкой активностью на портале меньше всего.\n",
    "\n",
    "Постройте круговую диаграмму с количеством студентов (не логов) по каждому кластеру (названия кластеров должны иметь категориальные значения)."
   ]
  },
  {
   "cell_type": "code",
   "execution_count": null,
   "id": "e7f15cf6-252b-4a6b-a72a-2bea36944a47",
   "metadata": {},
   "outputs": [],
   "source": [
    "data = {\n",
    "    'cluster': [1, 2, 0],\n",
    "    'count': [318, 1181, 4817]\n",
    "}\n",
    "data = pd.DataFrame(data)"
   ]
  },
  {
   "cell_type": "code",
   "execution_count": null,
   "id": "cce54ea2-c8c3-433f-87a9-150a82f91e4f",
   "metadata": {},
   "outputs": [],
   "source": [
    "cluster_names = {\n",
    "    0: \"Низкая активность\",\n",
    "    1: \"Высокая активность\",\n",
    "    2: \"Средняя активность\"\n",
    "}\n",
    "data[\"cluster_name\"] = data[\"cluster\"].map(cluster_names)"
   ]
  },
  {
   "cell_type": "code",
   "execution_count": null,
   "id": "9c9e3c0d-decc-4be9-98d4-2f01d29d85ea",
   "metadata": {},
   "outputs": [],
   "source": [
    "fig = px.pie(\n",
    "    data,\n",
    "    names='cluster_name',\n",
    "    values='count',\n",
    "    title='Распределение студентов по активности',\n",
    "    color='cluster'\n",
    ")\n",
    "fig.show()"
   ]
  },
  {
   "cell_type": "markdown",
   "id": "19614ebb-fc56-45b8-9195-be8ae8fb3850",
   "metadata": {},
   "source": [
    "## Задание 10: Результаты кластеризации студентов (часть 2) \n",
    "\n",
    "Примечание: В Task5 вы реализовали кластеризацию студентов деятельности студентов, разбив их на 3 кластера. \n",
    "Вам необходимо визуализировать результаты кластеризации.\n",
    "\n",
    "Гипотеза: кластеры студентов с низкой и высокой активностью не пересекаются при группировке студентов по результатам экзаменов и со срезом студентов, которые получили 2 и 5. \n",
    "\n",
    "Постройте диаграмму рассеяния, где отображаются кластеры активности студентов, которые получили только 2 и 5. \n"
   ]
  },
  {
   "cell_type": "code",
   "execution_count": null,
   "id": "5ae03e7a-93db-4623-bd85-6770a6dd8dca",
   "metadata": {},
   "outputs": [],
   "source": [
    "filtered_data = df[['userid', 'NameR_Level']].copy()\n",
    "filtered_data = filtered_data[filtered_data['NameR_Level'].isin([2, 5])]\n",
    "print(filtered_data['NameR_Level'].unique())\n",
    "print(filtered_data.head())"
   ]
  },
  {
   "cell_type": "code",
   "execution_count": null,
   "id": "ffcee064-26bc-4200-86a9-bbe2b6241407",
   "metadata": {},
   "outputs": [],
   "source": [
    "df_cluster = pd.read_csv('clusters_result.csv')\n",
    "df_cluster.head()"
   ]
  },
  {
   "cell_type": "code",
   "execution_count": null,
   "id": "82a67879-2086-4238-8e74-2491238502cc",
   "metadata": {},
   "outputs": [],
   "source": [
    "df_merged = pd.merge(filtered_data, df_cluster, on='userid')\n",
    "df_merged.head()"
   ]
  },
  {
   "cell_type": "code",
   "execution_count": null,
   "id": "4b0512e4-287f-42ac-be61-bf4061f15903",
   "metadata": {},
   "outputs": [],
   "source": [
    "cluster_map = {\n",
    "    0: \"Низкая активность\",\n",
    "    1: \"Высокая активность\",\n",
    "    2: \"Средняя активность\"\n",
    "}\n",
    "df_merged['cluster'] = df_merged['cluster'].map(cluster_map)"
   ]
  },
  {
   "cell_type": "code",
   "execution_count": null,
   "id": "80ce9c86-85b9-429b-a980-4883ed7f0992",
   "metadata": {},
   "outputs": [],
   "source": [
    "fig = px.scatter(\n",
    "    df_merged,\n",
    "    x=\"avg_s_all\",\n",
    "    y=\"NameR_Level\",\n",
    "    color=\"cluster\",\n",
    "    title=\"Диаграмма рассеяния: Активность vs Экзаменационная оценка (только 2 и 5)\",\n",
    "    labels={\"avg_s_all\": \"Средняя активность\", \"exam_score\": \"Оценка\"},\n",
    "    color_discrete_map={\n",
    "        \"Низкая активность\": \"red\",\n",
    "        \"Средняя активность\": \"orange\",\n",
    "        \"Высокая активность\": \"green\"\n",
    "    },\n",
    "    hover_data=[\"userid\"]\n",
    ")\n",
    "\n",
    "fig.show()"
   ]
  },
  {
   "cell_type": "code",
   "execution_count": null,
   "id": "f889c895-be91-440f-b9e0-da8b052521c0",
   "metadata": {},
   "outputs": [],
   "source": []
  }
 ],
 "metadata": {
  "kernelspec": {
   "display_name": "Python 3 (ipykernel)",
   "language": "python",
   "name": "python3"
  },
  "language_info": {
   "codemirror_mode": {
    "name": "ipython",
    "version": 3
   },
   "file_extension": ".py",
   "mimetype": "text/x-python",
   "name": "python",
   "nbconvert_exporter": "python",
   "pygments_lexer": "ipython3",
   "version": "3.12.7"
  }
 },
 "nbformat": 4,
 "nbformat_minor": 5
}

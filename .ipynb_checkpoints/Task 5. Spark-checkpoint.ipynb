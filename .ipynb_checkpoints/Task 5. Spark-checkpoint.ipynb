{
 "cells": [
  {
   "cell_type": "markdown",
   "id": "df3a0480-2755-4d86-be33-1222671de006",
   "metadata": {},
   "source": [
    "# Spark\n",
    "\n",
    "Apache Spark — это мощная и гибкая система для обработки больших объемов данных, предлагающая широкий спектр возможностей для аналитики и машинного обучения. "
   ]
  },
  {
   "cell_type": "code",
   "execution_count": 1,
   "id": "55e2f09b-3c9d-4a87-bcfc-26cf2e942e88",
   "metadata": {},
   "outputs": [],
   "source": [
    "import os\n",
    "import socket\n",
    "from pyspark import SparkContext, SparkConf\n",
    "from pyspark.sql import SparkSession\n",
    "from pyspark.sql import functions as F\n",
    "from pyspark.sql.functions import udf, col, desc, rank, row_number"
   ]
  },
  {
   "cell_type": "code",
   "execution_count": 2,
   "id": "b56a5566-44fe-4e42-8576-fdb0d3ae970b",
   "metadata": {},
   "outputs": [
    {
     "name": "stdout",
     "output_type": "stream",
     "text": [
      "user: /user/mishanyacorleone/\n"
     ]
    },
    {
     "data": {
      "text/html": [
       "\n",
       "            <div>\n",
       "                <p><b>SparkSession - in-memory</b></p>\n",
       "                \n",
       "        <div>\n",
       "            <p><b>SparkContext</b></p>\n",
       "\n",
       "            <p><a href=\"/user/mishanyacorleone/proxy/4040/jobs/\">Spark UI</a></p>\n",
       "\n",
       "            <dl>\n",
       "              <dt>Version</dt>\n",
       "                <dd><code>v3.5.3</code></dd>\n",
       "              <dt>Master</dt>\n",
       "                <dd><code>local[*]</code></dd>\n",
       "              <dt>AppName</dt>\n",
       "                <dd><code>pyspark-shell</code></dd>\n",
       "            </dl>\n",
       "        </div>\n",
       "        \n",
       "            </div>\n",
       "        "
      ],
      "text/plain": [
       "<pyspark.sql.session.SparkSession at 0x7f20baf14fd0>"
      ]
     },
     "execution_count": 2,
     "metadata": {},
     "output_type": "execute_result"
    }
   ],
   "source": [
    "print('user:', os.environ['JUPYTERHUB_SERVICE_PREFIX'])\n",
    "\n",
    "def uiWebUrl(self):\n",
    "    from urllib.parse import urlparse\n",
    "    web_url = self._jsc.sc().uiWebUrl().get()\n",
    "    port = urlparse(web_url).port\n",
    "    return '{}proxy/{}/jobs/'.format(os.environ['JUPYTERHUB_SERVICE_PREFIX'], port)\n",
    "\n",
    "SparkContext.uiWebUrl = property(uiWebUrl)\n",
    "\n",
    "conf = SparkConf().set('spark.master', 'local[*]').set('spark.driver.memory', '4g')\n",
    "sc = SparkContext(conf=conf)\n",
    "spark = SparkSession(sc)\n",
    "spark"
   ]
  },
  {
   "cell_type": "code",
   "execution_count": 3,
   "id": "a3b2dc14-19e8-4595-87a9-940cca21a970",
   "metadata": {},
   "outputs": [
    {
     "name": "stdout",
     "output_type": "stream",
     "text": [
      "root\n",
      " |-- courseid: string (nullable = true)\n",
      " |-- userid: string (nullable = true)\n",
      " |-- num_week: string (nullable = true)\n",
      " |-- s_all: string (nullable = true)\n",
      " |-- s_all_avg: string (nullable = true)\n",
      " |-- s_course_viewed: string (nullable = true)\n",
      " |-- s_course_viewed_avg: string (nullable = true)\n",
      " |-- s_q_attempt_viewed: string (nullable = true)\n",
      " |-- s_q_attempt_viewed_avg: string (nullable = true)\n",
      " |-- s_a_course_module_viewed: string (nullable = true)\n",
      " |-- s_a_course_module_viewed_avg: string (nullable = true)\n",
      " |-- s_a_submission_status_viewed: string (nullable = true)\n",
      " |-- s_a_submission_status_viewed_avg: string (nullable = true)\n",
      " |-- NameR_Level: string (nullable = true)\n",
      " |-- Name_vAtt: string (nullable = true)\n",
      " |-- Depart: string (nullable = true)\n",
      " |-- Name_OsnO: string (nullable = true)\n",
      " |-- Name_FormOPril: string (nullable = true)\n",
      " |-- LevelEd: string (nullable = true)\n",
      " |-- Num_Sem: string (nullable = true)\n",
      " |-- Kurs: string (nullable = true)\n",
      " |-- Date_vAtt: string (nullable = true)\n",
      "\n"
     ]
    }
   ],
   "source": [
    "sdf = spark.read.csv(\n",
    "    'datasets/aggrigation_logs_per_week.csv', \n",
    "    sep=',', \n",
    "    header=True\n",
    ")\n",
    "sdf.printSchema()"
   ]
  },
  {
   "cell_type": "markdown",
   "id": "1bcbc70c-8bb6-4c4b-a36f-fb584e070541",
   "metadata": {},
   "source": [
    "Выведем  первые пять записей из Spark DataFrame"
   ]
  },
  {
   "cell_type": "code",
   "execution_count": 4,
   "id": "867788fc-2e25-43e2-9fc2-300ad6c6cd07",
   "metadata": {},
   "outputs": [
    {
     "data": {
      "text/html": [
       "<div>\n",
       "<style scoped>\n",
       "    .dataframe tbody tr th:only-of-type {\n",
       "        vertical-align: middle;\n",
       "    }\n",
       "\n",
       "    .dataframe tbody tr th {\n",
       "        vertical-align: top;\n",
       "    }\n",
       "\n",
       "    .dataframe thead th {\n",
       "        text-align: right;\n",
       "    }\n",
       "</style>\n",
       "<table border=\"1\" class=\"dataframe\">\n",
       "  <thead>\n",
       "    <tr style=\"text-align: right;\">\n",
       "      <th></th>\n",
       "      <th>courseid</th>\n",
       "      <th>userid</th>\n",
       "      <th>num_week</th>\n",
       "      <th>s_all</th>\n",
       "      <th>s_all_avg</th>\n",
       "      <th>s_course_viewed</th>\n",
       "      <th>s_course_viewed_avg</th>\n",
       "      <th>s_q_attempt_viewed</th>\n",
       "      <th>s_q_attempt_viewed_avg</th>\n",
       "      <th>s_a_course_module_viewed</th>\n",
       "      <th>...</th>\n",
       "      <th>s_a_submission_status_viewed_avg</th>\n",
       "      <th>NameR_Level</th>\n",
       "      <th>Name_vAtt</th>\n",
       "      <th>Depart</th>\n",
       "      <th>Name_OsnO</th>\n",
       "      <th>Name_FormOPril</th>\n",
       "      <th>LevelEd</th>\n",
       "      <th>Num_Sem</th>\n",
       "      <th>Kurs</th>\n",
       "      <th>Date_vAtt</th>\n",
       "    </tr>\n",
       "  </thead>\n",
       "  <tbody>\n",
       "    <tr>\n",
       "      <th>0</th>\n",
       "      <td>71262</td>\n",
       "      <td>34527</td>\n",
       "      <td>6</td>\n",
       "      <td>9</td>\n",
       "      <td>9</td>\n",
       "      <td>4</td>\n",
       "      <td>4</td>\n",
       "      <td>0</td>\n",
       "      <td>0</td>\n",
       "      <td>0</td>\n",
       "      <td>...</td>\n",
       "      <td>0</td>\n",
       "      <td>3</td>\n",
       "      <td>Экзамен</td>\n",
       "      <td>22</td>\n",
       "      <td>1</td>\n",
       "      <td>1</td>\n",
       "      <td>1</td>\n",
       "      <td>2</td>\n",
       "      <td>2</td>\n",
       "      <td>18.06.2022</td>\n",
       "    </tr>\n",
       "    <tr>\n",
       "      <th>1</th>\n",
       "      <td>71262</td>\n",
       "      <td>34527</td>\n",
       "      <td>7</td>\n",
       "      <td>0</td>\n",
       "      <td>4,5</td>\n",
       "      <td>0</td>\n",
       "      <td>2</td>\n",
       "      <td>0</td>\n",
       "      <td>0</td>\n",
       "      <td>0</td>\n",
       "      <td>...</td>\n",
       "      <td>0</td>\n",
       "      <td>3</td>\n",
       "      <td>Экзамен</td>\n",
       "      <td>22</td>\n",
       "      <td>1</td>\n",
       "      <td>1</td>\n",
       "      <td>1</td>\n",
       "      <td>2</td>\n",
       "      <td>2</td>\n",
       "      <td>18.06.2022</td>\n",
       "    </tr>\n",
       "    <tr>\n",
       "      <th>2</th>\n",
       "      <td>71262</td>\n",
       "      <td>34527</td>\n",
       "      <td>8</td>\n",
       "      <td>0</td>\n",
       "      <td>3</td>\n",
       "      <td>0</td>\n",
       "      <td>1,3333</td>\n",
       "      <td>0</td>\n",
       "      <td>0</td>\n",
       "      <td>0</td>\n",
       "      <td>...</td>\n",
       "      <td>0</td>\n",
       "      <td>3</td>\n",
       "      <td>Экзамен</td>\n",
       "      <td>22</td>\n",
       "      <td>1</td>\n",
       "      <td>1</td>\n",
       "      <td>1</td>\n",
       "      <td>2</td>\n",
       "      <td>2</td>\n",
       "      <td>18.06.2022</td>\n",
       "    </tr>\n",
       "    <tr>\n",
       "      <th>3</th>\n",
       "      <td>71262</td>\n",
       "      <td>34527</td>\n",
       "      <td>9</td>\n",
       "      <td>0</td>\n",
       "      <td>2,25</td>\n",
       "      <td>0</td>\n",
       "      <td>1</td>\n",
       "      <td>0</td>\n",
       "      <td>0</td>\n",
       "      <td>0</td>\n",
       "      <td>...</td>\n",
       "      <td>0</td>\n",
       "      <td>3</td>\n",
       "      <td>Экзамен</td>\n",
       "      <td>22</td>\n",
       "      <td>1</td>\n",
       "      <td>1</td>\n",
       "      <td>1</td>\n",
       "      <td>2</td>\n",
       "      <td>2</td>\n",
       "      <td>18.06.2022</td>\n",
       "    </tr>\n",
       "    <tr>\n",
       "      <th>4</th>\n",
       "      <td>71262</td>\n",
       "      <td>34527</td>\n",
       "      <td>10</td>\n",
       "      <td>0</td>\n",
       "      <td>1,8</td>\n",
       "      <td>0</td>\n",
       "      <td>0,8</td>\n",
       "      <td>0</td>\n",
       "      <td>0</td>\n",
       "      <td>0</td>\n",
       "      <td>...</td>\n",
       "      <td>0</td>\n",
       "      <td>3</td>\n",
       "      <td>Экзамен</td>\n",
       "      <td>22</td>\n",
       "      <td>1</td>\n",
       "      <td>1</td>\n",
       "      <td>1</td>\n",
       "      <td>2</td>\n",
       "      <td>2</td>\n",
       "      <td>18.06.2022</td>\n",
       "    </tr>\n",
       "  </tbody>\n",
       "</table>\n",
       "<p>5 rows × 22 columns</p>\n",
       "</div>"
      ],
      "text/plain": [
       "  courseid userid num_week s_all s_all_avg s_course_viewed  \\\n",
       "0    71262  34527        6     9         9               4   \n",
       "1    71262  34527        7     0       4,5               0   \n",
       "2    71262  34527        8     0         3               0   \n",
       "3    71262  34527        9     0      2,25               0   \n",
       "4    71262  34527       10     0       1,8               0   \n",
       "\n",
       "  s_course_viewed_avg s_q_attempt_viewed s_q_attempt_viewed_avg  \\\n",
       "0                   4                  0                      0   \n",
       "1                   2                  0                      0   \n",
       "2              1,3333                  0                      0   \n",
       "3                   1                  0                      0   \n",
       "4                 0,8                  0                      0   \n",
       "\n",
       "  s_a_course_module_viewed  ... s_a_submission_status_viewed_avg NameR_Level  \\\n",
       "0                        0  ...                                0           3   \n",
       "1                        0  ...                                0           3   \n",
       "2                        0  ...                                0           3   \n",
       "3                        0  ...                                0           3   \n",
       "4                        0  ...                                0           3   \n",
       "\n",
       "  Name_vAtt Depart Name_OsnO Name_FormOPril LevelEd Num_Sem Kurs   Date_vAtt  \n",
       "0   Экзамен     22         1              1       1       2    2  18.06.2022  \n",
       "1   Экзамен     22         1              1       1       2    2  18.06.2022  \n",
       "2   Экзамен     22         1              1       1       2    2  18.06.2022  \n",
       "3   Экзамен     22         1              1       1       2    2  18.06.2022  \n",
       "4   Экзамен     22         1              1       1       2    2  18.06.2022  \n",
       "\n",
       "[5 rows x 22 columns]"
      ]
     },
     "execution_count": 4,
     "metadata": {},
     "output_type": "execute_result"
    }
   ],
   "source": [
    "sdf.limit(5).toPandas().head()"
   ]
  },
  {
   "cell_type": "code",
   "execution_count": 5,
   "id": "a9aceba7-8e2d-412e-b510-29f22defebc0",
   "metadata": {},
   "outputs": [
    {
     "name": "stdout",
     "output_type": "stream",
     "text": [
      "Количество записей в наборе данных: 414528\n"
     ]
    }
   ],
   "source": [
    "print('Количество записей в наборе данных:', sdf.count())"
   ]
  },
  {
   "cell_type": "code",
   "execution_count": 6,
   "id": "61569e5c-c189-447d-a01b-ac31d070425b",
   "metadata": {},
   "outputs": [
    {
     "data": {
      "text/html": [
       "<div>\n",
       "<style scoped>\n",
       "    .dataframe tbody tr th:only-of-type {\n",
       "        vertical-align: middle;\n",
       "    }\n",
       "\n",
       "    .dataframe tbody tr th {\n",
       "        vertical-align: top;\n",
       "    }\n",
       "\n",
       "    .dataframe thead th {\n",
       "        text-align: right;\n",
       "    }\n",
       "</style>\n",
       "<table border=\"1\" class=\"dataframe\">\n",
       "  <thead>\n",
       "    <tr style=\"text-align: right;\">\n",
       "      <th></th>\n",
       "      <th>courseid</th>\n",
       "      <th>userid</th>\n",
       "      <th>num_week</th>\n",
       "      <th>s_all</th>\n",
       "      <th>s_all_avg</th>\n",
       "      <th>s_course_viewed</th>\n",
       "      <th>s_course_viewed_avg</th>\n",
       "      <th>s_q_attempt_viewed</th>\n",
       "      <th>s_q_attempt_viewed_avg</th>\n",
       "      <th>s_a_course_module_viewed</th>\n",
       "      <th>...</th>\n",
       "      <th>s_a_submission_status_viewed_avg</th>\n",
       "      <th>NameR_Level</th>\n",
       "      <th>Name_vAtt</th>\n",
       "      <th>Depart</th>\n",
       "      <th>Name_OsnO</th>\n",
       "      <th>Name_FormOPril</th>\n",
       "      <th>LevelEd</th>\n",
       "      <th>Num_Sem</th>\n",
       "      <th>Kurs</th>\n",
       "      <th>Date_vAtt</th>\n",
       "    </tr>\n",
       "  </thead>\n",
       "  <tbody>\n",
       "    <tr>\n",
       "      <th>0</th>\n",
       "      <td>84236</td>\n",
       "      <td>33622</td>\n",
       "      <td>25</td>\n",
       "      <td>0</td>\n",
       "      <td>23,1</td>\n",
       "      <td>0</td>\n",
       "      <td>4,2</td>\n",
       "      <td>0</td>\n",
       "      <td>3,05</td>\n",
       "      <td>0</td>\n",
       "      <td>...</td>\n",
       "      <td>3,75</td>\n",
       "      <td>4</td>\n",
       "      <td>Экзамен</td>\n",
       "      <td>23</td>\n",
       "      <td>1</td>\n",
       "      <td>1</td>\n",
       "      <td>1</td>\n",
       "      <td>2</td>\n",
       "      <td>2</td>\n",
       "      <td>23.06.2022</td>\n",
       "    </tr>\n",
       "    <tr>\n",
       "      <th>1</th>\n",
       "      <td>75656</td>\n",
       "      <td>29359</td>\n",
       "      <td>28</td>\n",
       "      <td>0</td>\n",
       "      <td>0,2174</td>\n",
       "      <td>0</td>\n",
       "      <td>0,1304</td>\n",
       "      <td>0</td>\n",
       "      <td>0</td>\n",
       "      <td>0</td>\n",
       "      <td>...</td>\n",
       "      <td>0,0435</td>\n",
       "      <td>2</td>\n",
       "      <td>Экзамен</td>\n",
       "      <td>12</td>\n",
       "      <td>1</td>\n",
       "      <td>1</td>\n",
       "      <td>2</td>\n",
       "      <td>4</td>\n",
       "      <td>3</td>\n",
       "      <td>17.06.2022</td>\n",
       "    </tr>\n",
       "    <tr>\n",
       "      <th>2</th>\n",
       "      <td>71262</td>\n",
       "      <td>34527</td>\n",
       "      <td>10</td>\n",
       "      <td>0</td>\n",
       "      <td>1,8</td>\n",
       "      <td>0</td>\n",
       "      <td>0,8</td>\n",
       "      <td>0</td>\n",
       "      <td>0</td>\n",
       "      <td>0</td>\n",
       "      <td>...</td>\n",
       "      <td>0</td>\n",
       "      <td>3</td>\n",
       "      <td>Экзамен</td>\n",
       "      <td>22</td>\n",
       "      <td>1</td>\n",
       "      <td>1</td>\n",
       "      <td>1</td>\n",
       "      <td>2</td>\n",
       "      <td>2</td>\n",
       "      <td>18.06.2022</td>\n",
       "    </tr>\n",
       "    <tr>\n",
       "      <th>3</th>\n",
       "      <td>75656</td>\n",
       "      <td>29359</td>\n",
       "      <td>29</td>\n",
       "      <td>0</td>\n",
       "      <td>0,2083</td>\n",
       "      <td>0</td>\n",
       "      <td>0,125</td>\n",
       "      <td>0</td>\n",
       "      <td>0</td>\n",
       "      <td>0</td>\n",
       "      <td>...</td>\n",
       "      <td>0,0417</td>\n",
       "      <td>2</td>\n",
       "      <td>Экзамен</td>\n",
       "      <td>12</td>\n",
       "      <td>1</td>\n",
       "      <td>1</td>\n",
       "      <td>2</td>\n",
       "      <td>4</td>\n",
       "      <td>3</td>\n",
       "      <td>17.06.2022</td>\n",
       "    </tr>\n",
       "    <tr>\n",
       "      <th>4</th>\n",
       "      <td>84236</td>\n",
       "      <td>33622</td>\n",
       "      <td>26</td>\n",
       "      <td>0</td>\n",
       "      <td>22</td>\n",
       "      <td>0</td>\n",
       "      <td>4</td>\n",
       "      <td>0</td>\n",
       "      <td>2,9048</td>\n",
       "      <td>0</td>\n",
       "      <td>...</td>\n",
       "      <td>3,5714</td>\n",
       "      <td>4</td>\n",
       "      <td>Экзамен</td>\n",
       "      <td>23</td>\n",
       "      <td>1</td>\n",
       "      <td>1</td>\n",
       "      <td>1</td>\n",
       "      <td>2</td>\n",
       "      <td>2</td>\n",
       "      <td>23.06.2022</td>\n",
       "    </tr>\n",
       "  </tbody>\n",
       "</table>\n",
       "<p>5 rows × 22 columns</p>\n",
       "</div>"
      ],
      "text/plain": [
       "  courseid userid num_week s_all s_all_avg s_course_viewed  \\\n",
       "0    84236  33622       25     0      23,1               0   \n",
       "1    75656  29359       28     0    0,2174               0   \n",
       "2    71262  34527       10     0       1,8               0   \n",
       "3    75656  29359       29     0    0,2083               0   \n",
       "4    84236  33622       26     0        22               0   \n",
       "\n",
       "  s_course_viewed_avg s_q_attempt_viewed s_q_attempt_viewed_avg  \\\n",
       "0                 4,2                  0                   3,05   \n",
       "1              0,1304                  0                      0   \n",
       "2                 0,8                  0                      0   \n",
       "3               0,125                  0                      0   \n",
       "4                   4                  0                 2,9048   \n",
       "\n",
       "  s_a_course_module_viewed  ... s_a_submission_status_viewed_avg NameR_Level  \\\n",
       "0                        0  ...                             3,75           4   \n",
       "1                        0  ...                           0,0435           2   \n",
       "2                        0  ...                                0           3   \n",
       "3                        0  ...                           0,0417           2   \n",
       "4                        0  ...                           3,5714           4   \n",
       "\n",
       "  Name_vAtt Depart Name_OsnO Name_FormOPril LevelEd Num_Sem Kurs   Date_vAtt  \n",
       "0   Экзамен     23         1              1       1       2    2  23.06.2022  \n",
       "1   Экзамен     12         1              1       2       4    3  17.06.2022  \n",
       "2   Экзамен     22         1              1       1       2    2  18.06.2022  \n",
       "3   Экзамен     12         1              1       2       4    3  17.06.2022  \n",
       "4   Экзамен     23         1              1       1       2    2  23.06.2022  \n",
       "\n",
       "[5 rows x 22 columns]"
      ]
     },
     "execution_count": 6,
     "metadata": {},
     "output_type": "execute_result"
    }
   ],
   "source": [
    "sdf.orderBy('s_course_viewed').limit(5).toPandas()"
   ]
  },
  {
   "cell_type": "code",
   "execution_count": 7,
   "id": "08809ac9-895e-4b9d-a9c0-bd55e231c6c8",
   "metadata": {},
   "outputs": [
    {
     "name": "stdout",
     "output_type": "stream",
     "text": [
      "+---------+\n",
      "|Name_vAtt|\n",
      "+---------+\n",
      "|  Экзамен|\n",
      "+---------+\n",
      "\n"
     ]
    }
   ],
   "source": [
    "sdf.select('Name_vAtt').distinct().show()"
   ]
  },
  {
   "cell_type": "markdown",
   "id": "20be7b11-b47d-48c5-b98e-977a4cde31ba",
   "metadata": {},
   "source": [
    "Группировка данных, подсчет частоты появления"
   ]
  },
  {
   "cell_type": "code",
   "execution_count": 8,
   "id": "851e39bd-8c13-4d74-b978-861d5cf20dae",
   "metadata": {},
   "outputs": [
    {
     "name": "stdout",
     "output_type": "stream",
     "text": [
      "+------+-----+\n",
      "|userid|count|\n",
      "+------+-----+\n",
      "| 35444|   72|\n",
      "| 34657|   96|\n",
      "| 29089|   48|\n",
      "| 29573|   48|\n",
      "| 30966|   24|\n",
      "| 35350|   96|\n",
      "| 29539|   72|\n",
      "| 21783|   72|\n",
      "| 24269|   72|\n",
      "| 22121|   48|\n",
      "|  5613|   48|\n",
      "| 24528|   48|\n",
      "| 27492|   48|\n",
      "| 15539|   24|\n",
      "| 24078|   24|\n",
      "| 25350|   48|\n",
      "| 30054|   24|\n",
      "| 35438|   72|\n",
      "| 27753|   72|\n",
      "| 27563|   96|\n",
      "+------+-----+\n",
      "only showing top 20 rows\n",
      "\n"
     ]
    }
   ],
   "source": [
    "sdf.groupby('userid').count().show()"
   ]
  },
  {
   "cell_type": "code",
   "execution_count": 9,
   "id": "ea2116a8-b0db-4deb-a0cf-d344f7b8940f",
   "metadata": {},
   "outputs": [
    {
     "name": "stdout",
     "output_type": "stream",
     "text": [
      "+------+-----+\n",
      "|userid|count|\n",
      "+------+-----+\n",
      "| 33470|  120|\n",
      "| 33541|  120|\n",
      "| 33528|  120|\n",
      "| 20252|  120|\n",
      "| 24347|  120|\n",
      "| 33864|  120|\n",
      "| 20734|  120|\n",
      "| 24631|  120|\n",
      "| 34345|  120|\n",
      "| 25123|  120|\n",
      "| 25267|  120|\n",
      "| 30067|  120|\n",
      "| 34186|  120|\n",
      "| 33583|  120|\n",
      "| 36019|  120|\n",
      "| 36001|  120|\n",
      "| 24710|  120|\n",
      "| 33685|  120|\n",
      "| 33463|  120|\n",
      "| 35787|  120|\n",
      "+------+-----+\n",
      "only showing top 20 rows\n",
      "\n"
     ]
    }
   ],
   "source": [
    "sdf.groupby('userid').count().sort(col('count').desc()).show()"
   ]
  },
  {
   "cell_type": "markdown",
   "id": "a7baa56d-4545-45de-a7fc-9927801c0af3",
   "metadata": {},
   "source": [
    "Фильтрация данных"
   ]
  },
  {
   "cell_type": "code",
   "execution_count": 10,
   "id": "47c13b9f-d6a2-4cc7-acba-a5651c924497",
   "metadata": {},
   "outputs": [
    {
     "data": {
      "text/html": [
       "<div>\n",
       "<style scoped>\n",
       "    .dataframe tbody tr th:only-of-type {\n",
       "        vertical-align: middle;\n",
       "    }\n",
       "\n",
       "    .dataframe tbody tr th {\n",
       "        vertical-align: top;\n",
       "    }\n",
       "\n",
       "    .dataframe thead th {\n",
       "        text-align: right;\n",
       "    }\n",
       "</style>\n",
       "<table border=\"1\" class=\"dataframe\">\n",
       "  <thead>\n",
       "    <tr style=\"text-align: right;\">\n",
       "      <th></th>\n",
       "      <th>userid</th>\n",
       "      <th>num_week</th>\n",
       "      <th>courseid</th>\n",
       "      <th>s_course_viewed</th>\n",
       "    </tr>\n",
       "  </thead>\n",
       "  <tbody>\n",
       "    <tr>\n",
       "      <th>0</th>\n",
       "      <td>33470</td>\n",
       "      <td>6</td>\n",
       "      <td>74257</td>\n",
       "      <td>5</td>\n",
       "    </tr>\n",
       "    <tr>\n",
       "      <th>1</th>\n",
       "      <td>33470</td>\n",
       "      <td>7</td>\n",
       "      <td>74257</td>\n",
       "      <td>0</td>\n",
       "    </tr>\n",
       "    <tr>\n",
       "      <th>2</th>\n",
       "      <td>33470</td>\n",
       "      <td>8</td>\n",
       "      <td>74257</td>\n",
       "      <td>12</td>\n",
       "    </tr>\n",
       "    <tr>\n",
       "      <th>3</th>\n",
       "      <td>33470</td>\n",
       "      <td>9</td>\n",
       "      <td>74257</td>\n",
       "      <td>4</td>\n",
       "    </tr>\n",
       "    <tr>\n",
       "      <th>4</th>\n",
       "      <td>33470</td>\n",
       "      <td>10</td>\n",
       "      <td>74257</td>\n",
       "      <td>0</td>\n",
       "    </tr>\n",
       "    <tr>\n",
       "      <th>5</th>\n",
       "      <td>33470</td>\n",
       "      <td>11</td>\n",
       "      <td>74257</td>\n",
       "      <td>14</td>\n",
       "    </tr>\n",
       "    <tr>\n",
       "      <th>6</th>\n",
       "      <td>33470</td>\n",
       "      <td>12</td>\n",
       "      <td>74257</td>\n",
       "      <td>5</td>\n",
       "    </tr>\n",
       "    <tr>\n",
       "      <th>7</th>\n",
       "      <td>33470</td>\n",
       "      <td>13</td>\n",
       "      <td>74257</td>\n",
       "      <td>5</td>\n",
       "    </tr>\n",
       "    <tr>\n",
       "      <th>8</th>\n",
       "      <td>33470</td>\n",
       "      <td>14</td>\n",
       "      <td>74257</td>\n",
       "      <td>2</td>\n",
       "    </tr>\n",
       "    <tr>\n",
       "      <th>9</th>\n",
       "      <td>33470</td>\n",
       "      <td>15</td>\n",
       "      <td>74257</td>\n",
       "      <td>8</td>\n",
       "    </tr>\n",
       "    <tr>\n",
       "      <th>10</th>\n",
       "      <td>33470</td>\n",
       "      <td>16</td>\n",
       "      <td>74257</td>\n",
       "      <td>4</td>\n",
       "    </tr>\n",
       "    <tr>\n",
       "      <th>11</th>\n",
       "      <td>33470</td>\n",
       "      <td>17</td>\n",
       "      <td>74257</td>\n",
       "      <td>1</td>\n",
       "    </tr>\n",
       "    <tr>\n",
       "      <th>12</th>\n",
       "      <td>33470</td>\n",
       "      <td>18</td>\n",
       "      <td>74257</td>\n",
       "      <td>0</td>\n",
       "    </tr>\n",
       "    <tr>\n",
       "      <th>13</th>\n",
       "      <td>33470</td>\n",
       "      <td>19</td>\n",
       "      <td>74257</td>\n",
       "      <td>0</td>\n",
       "    </tr>\n",
       "    <tr>\n",
       "      <th>14</th>\n",
       "      <td>33470</td>\n",
       "      <td>20</td>\n",
       "      <td>74257</td>\n",
       "      <td>2</td>\n",
       "    </tr>\n",
       "    <tr>\n",
       "      <th>15</th>\n",
       "      <td>33470</td>\n",
       "      <td>21</td>\n",
       "      <td>74257</td>\n",
       "      <td>0</td>\n",
       "    </tr>\n",
       "    <tr>\n",
       "      <th>16</th>\n",
       "      <td>33470</td>\n",
       "      <td>22</td>\n",
       "      <td>74257</td>\n",
       "      <td>3</td>\n",
       "    </tr>\n",
       "    <tr>\n",
       "      <th>17</th>\n",
       "      <td>33470</td>\n",
       "      <td>23</td>\n",
       "      <td>74257</td>\n",
       "      <td>1</td>\n",
       "    </tr>\n",
       "    <tr>\n",
       "      <th>18</th>\n",
       "      <td>33470</td>\n",
       "      <td>24</td>\n",
       "      <td>74257</td>\n",
       "      <td>1</td>\n",
       "    </tr>\n",
       "    <tr>\n",
       "      <th>19</th>\n",
       "      <td>33470</td>\n",
       "      <td>25</td>\n",
       "      <td>74257</td>\n",
       "      <td>0</td>\n",
       "    </tr>\n",
       "    <tr>\n",
       "      <th>20</th>\n",
       "      <td>33470</td>\n",
       "      <td>26</td>\n",
       "      <td>74257</td>\n",
       "      <td>0</td>\n",
       "    </tr>\n",
       "    <tr>\n",
       "      <th>21</th>\n",
       "      <td>33470</td>\n",
       "      <td>27</td>\n",
       "      <td>74257</td>\n",
       "      <td>0</td>\n",
       "    </tr>\n",
       "    <tr>\n",
       "      <th>22</th>\n",
       "      <td>33470</td>\n",
       "      <td>28</td>\n",
       "      <td>74257</td>\n",
       "      <td>0</td>\n",
       "    </tr>\n",
       "    <tr>\n",
       "      <th>23</th>\n",
       "      <td>33470</td>\n",
       "      <td>29</td>\n",
       "      <td>74257</td>\n",
       "      <td>0</td>\n",
       "    </tr>\n",
       "  </tbody>\n",
       "</table>\n",
       "</div>"
      ],
      "text/plain": [
       "   userid num_week courseid s_course_viewed\n",
       "0   33470        6    74257               5\n",
       "1   33470        7    74257               0\n",
       "2   33470        8    74257              12\n",
       "3   33470        9    74257               4\n",
       "4   33470       10    74257               0\n",
       "5   33470       11    74257              14\n",
       "6   33470       12    74257               5\n",
       "7   33470       13    74257               5\n",
       "8   33470       14    74257               2\n",
       "9   33470       15    74257               8\n",
       "10  33470       16    74257               4\n",
       "11  33470       17    74257               1\n",
       "12  33470       18    74257               0\n",
       "13  33470       19    74257               0\n",
       "14  33470       20    74257               2\n",
       "15  33470       21    74257               0\n",
       "16  33470       22    74257               3\n",
       "17  33470       23    74257               1\n",
       "18  33470       24    74257               1\n",
       "19  33470       25    74257               0\n",
       "20  33470       26    74257               0\n",
       "21  33470       27    74257               0\n",
       "22  33470       28    74257               0\n",
       "23  33470       29    74257               0"
      ]
     },
     "execution_count": 10,
     "metadata": {},
     "output_type": "execute_result"
    }
   ],
   "source": [
    "sdf.select(\n",
    "    'userid',\n",
    "    'num_week',\n",
    "    'courseid',\n",
    "    's_course_viewed'\n",
    ").filter(\n",
    "    (col('userid') == '33470') & (col('courseid') == '74257')\n",
    ").limit(\n",
    "    30\n",
    ").toPandas()"
   ]
  },
  {
   "cell_type": "markdown",
   "id": "16e633ae-b5cd-4e30-9d93-d039852cf365",
   "metadata": {},
   "source": [
    "## Задание 1:\n",
    "### Анализ активности студентов на портале\n",
    "Рассчитать общее количество событий (s_all) и просмотров курсов (s_course_viewed) по каждой неделе (num_week).\n",
    "\n",
    "Примечание. Используйте методы groupBy + agg. \n",
    "\n",
    "Проанализируйте полученные данные, какие выводы можно сделать?"
   ]
  },
  {
   "cell_type": "code",
   "execution_count": 11,
   "id": "73f9c1fc-506b-4afb-9650-f57951ab6beb",
   "metadata": {},
   "outputs": [],
   "source": [
    "from pyspark.sql.functions import sum"
   ]
  },
  {
   "cell_type": "code",
   "execution_count": 12,
   "id": "0c9240e1-eddb-4c23-8298-795e3fba6903",
   "metadata": {},
   "outputs": [],
   "source": [
    "sdf = sdf.withColumn(\"num_week\", sdf[\"num_week\"].cast(\"int\")) \\\n",
    "         .withColumn(\"s_all\", sdf[\"s_all\"].cast(\"int\")) \\\n",
    "         .withColumn(\"s_course_viewed\", sdf[\"s_course_viewed\"].cast(\"int\"))"
   ]
  },
  {
   "cell_type": "code",
   "execution_count": 13,
   "id": "e4a3a140-c7a4-40f1-9761-e844281470e2",
   "metadata": {},
   "outputs": [
    {
     "data": {
      "text/html": [
       "<div>\n",
       "<style scoped>\n",
       "    .dataframe tbody tr th:only-of-type {\n",
       "        vertical-align: middle;\n",
       "    }\n",
       "\n",
       "    .dataframe tbody tr th {\n",
       "        vertical-align: top;\n",
       "    }\n",
       "\n",
       "    .dataframe thead th {\n",
       "        text-align: right;\n",
       "    }\n",
       "</style>\n",
       "<table border=\"1\" class=\"dataframe\">\n",
       "  <thead>\n",
       "    <tr style=\"text-align: right;\">\n",
       "      <th></th>\n",
       "      <th>num_week</th>\n",
       "      <th>sum(s_all)</th>\n",
       "      <th>sum(s_course_viewed)</th>\n",
       "    </tr>\n",
       "  </thead>\n",
       "  <tbody>\n",
       "    <tr>\n",
       "      <th>0</th>\n",
       "      <td>28</td>\n",
       "      <td>1554</td>\n",
       "      <td>467</td>\n",
       "    </tr>\n",
       "    <tr>\n",
       "      <th>1</th>\n",
       "      <td>26</td>\n",
       "      <td>148590</td>\n",
       "      <td>27531</td>\n",
       "    </tr>\n",
       "    <tr>\n",
       "      <th>2</th>\n",
       "      <td>27</td>\n",
       "      <td>21641</td>\n",
       "      <td>4210</td>\n",
       "    </tr>\n",
       "    <tr>\n",
       "      <th>3</th>\n",
       "      <td>12</td>\n",
       "      <td>162041</td>\n",
       "      <td>37901</td>\n",
       "    </tr>\n",
       "    <tr>\n",
       "      <th>4</th>\n",
       "      <td>22</td>\n",
       "      <td>388401</td>\n",
       "      <td>72299</td>\n",
       "    </tr>\n",
       "    <tr>\n",
       "      <th>5</th>\n",
       "      <td>13</td>\n",
       "      <td>172962</td>\n",
       "      <td>38890</td>\n",
       "    </tr>\n",
       "    <tr>\n",
       "      <th>6</th>\n",
       "      <td>6</td>\n",
       "      <td>238295</td>\n",
       "      <td>75540</td>\n",
       "    </tr>\n",
       "    <tr>\n",
       "      <th>7</th>\n",
       "      <td>16</td>\n",
       "      <td>177650</td>\n",
       "      <td>38385</td>\n",
       "    </tr>\n",
       "    <tr>\n",
       "      <th>8</th>\n",
       "      <td>20</td>\n",
       "      <td>249532</td>\n",
       "      <td>52905</td>\n",
       "    </tr>\n",
       "    <tr>\n",
       "      <th>9</th>\n",
       "      <td>19</td>\n",
       "      <td>191952</td>\n",
       "      <td>40742</td>\n",
       "    </tr>\n",
       "    <tr>\n",
       "      <th>10</th>\n",
       "      <td>15</td>\n",
       "      <td>178829</td>\n",
       "      <td>39322</td>\n",
       "    </tr>\n",
       "    <tr>\n",
       "      <th>11</th>\n",
       "      <td>9</td>\n",
       "      <td>162241</td>\n",
       "      <td>40142</td>\n",
       "    </tr>\n",
       "    <tr>\n",
       "      <th>12</th>\n",
       "      <td>17</td>\n",
       "      <td>181629</td>\n",
       "      <td>37328</td>\n",
       "    </tr>\n",
       "    <tr>\n",
       "      <th>13</th>\n",
       "      <td>8</td>\n",
       "      <td>138669</td>\n",
       "      <td>37077</td>\n",
       "    </tr>\n",
       "    <tr>\n",
       "      <th>14</th>\n",
       "      <td>23</td>\n",
       "      <td>384501</td>\n",
       "      <td>70501</td>\n",
       "    </tr>\n",
       "    <tr>\n",
       "      <th>15</th>\n",
       "      <td>7</td>\n",
       "      <td>166090</td>\n",
       "      <td>47988</td>\n",
       "    </tr>\n",
       "    <tr>\n",
       "      <th>16</th>\n",
       "      <td>10</td>\n",
       "      <td>141778</td>\n",
       "      <td>33449</td>\n",
       "    </tr>\n",
       "    <tr>\n",
       "      <th>17</th>\n",
       "      <td>25</td>\n",
       "      <td>314633</td>\n",
       "      <td>53815</td>\n",
       "    </tr>\n",
       "    <tr>\n",
       "      <th>18</th>\n",
       "      <td>24</td>\n",
       "      <td>397465</td>\n",
       "      <td>69962</td>\n",
       "    </tr>\n",
       "    <tr>\n",
       "      <th>19</th>\n",
       "      <td>29</td>\n",
       "      <td>945</td>\n",
       "      <td>308</td>\n",
       "    </tr>\n",
       "    <tr>\n",
       "      <th>20</th>\n",
       "      <td>21</td>\n",
       "      <td>319598</td>\n",
       "      <td>64802</td>\n",
       "    </tr>\n",
       "    <tr>\n",
       "      <th>21</th>\n",
       "      <td>11</td>\n",
       "      <td>173100</td>\n",
       "      <td>39493</td>\n",
       "    </tr>\n",
       "    <tr>\n",
       "      <th>22</th>\n",
       "      <td>14</td>\n",
       "      <td>170305</td>\n",
       "      <td>37556</td>\n",
       "    </tr>\n",
       "    <tr>\n",
       "      <th>23</th>\n",
       "      <td>18</td>\n",
       "      <td>167044</td>\n",
       "      <td>34461</td>\n",
       "    </tr>\n",
       "  </tbody>\n",
       "</table>\n",
       "</div>"
      ],
      "text/plain": [
       "    num_week  sum(s_all)  sum(s_course_viewed)\n",
       "0         28        1554                   467\n",
       "1         26      148590                 27531\n",
       "2         27       21641                  4210\n",
       "3         12      162041                 37901\n",
       "4         22      388401                 72299\n",
       "5         13      172962                 38890\n",
       "6          6      238295                 75540\n",
       "7         16      177650                 38385\n",
       "8         20      249532                 52905\n",
       "9         19      191952                 40742\n",
       "10        15      178829                 39322\n",
       "11         9      162241                 40142\n",
       "12        17      181629                 37328\n",
       "13         8      138669                 37077\n",
       "14        23      384501                 70501\n",
       "15         7      166090                 47988\n",
       "16        10      141778                 33449\n",
       "17        25      314633                 53815\n",
       "18        24      397465                 69962\n",
       "19        29         945                   308\n",
       "20        21      319598                 64802\n",
       "21        11      173100                 39493\n",
       "22        14      170305                 37556\n",
       "23        18      167044                 34461"
      ]
     },
     "execution_count": 13,
     "metadata": {},
     "output_type": "execute_result"
    }
   ],
   "source": [
    "sdf.groupBy('num_week').agg(\n",
    "    sum('s_all'),\n",
    "    sum('s_course_viewed')\n",
    ").toPandas()"
   ]
  },
  {
   "cell_type": "markdown",
   "id": "78660f48-0c15-49f2-ba52-e57dc5aa6ca1",
   "metadata": {},
   "source": [
    "## Задание 2.\n",
    "### Определение самых популярных курсов\n",
    "\n",
    "Найти топ-5 курсов (courseid) по среднему количеству просмотров (s_course_viewed_avg).\n"
   ]
  },
  {
   "cell_type": "code",
   "execution_count": 14,
   "id": "47e5f9d5-b64b-441c-893b-5131ef74319d",
   "metadata": {},
   "outputs": [],
   "source": [
    "from pyspark.sql.functions import sum\n",
    "from pyspark.sql.functions import avg"
   ]
  },
  {
   "cell_type": "code",
   "execution_count": 15,
   "id": "0ef62b95-0f53-45fa-82af-ae04c7c0f7fe",
   "metadata": {},
   "outputs": [],
   "source": [
    "sdf = sdf.withColumn(\"s_course_viewed_avg\", sdf[\"s_course_viewed_avg\"].cast(\"double\"))"
   ]
  },
  {
   "cell_type": "code",
   "execution_count": 16,
   "id": "6d1742db-38df-43bf-804b-c4c9ccbcfe21",
   "metadata": {},
   "outputs": [
    {
     "name": "stdout",
     "output_type": "stream",
     "text": [
      "+--------+------------------------+\n",
      "|courseid|avg(s_course_viewed_avg)|\n",
      "+--------+------------------------+\n",
      "|   76419|                    28.1|\n",
      "|   78733|      27.545454545454547|\n",
      "|   78705|      22.945054945054945|\n",
      "|   82552|      20.387755102040817|\n",
      "|   84165|      18.771084337349397|\n",
      "+--------+------------------------+\n",
      "\n"
     ]
    }
   ],
   "source": [
    "sdf.groupBy('courseid').agg(\n",
    "    avg('s_course_viewed_avg')\n",
    ").sort(col('avg(s_course_viewed_avg)').desc()).limit(5).show()"
   ]
  },
  {
   "cell_type": "code",
   "execution_count": 17,
   "id": "1ebe46d9-8768-485e-8039-d9a979f8210b",
   "metadata": {},
   "outputs": [
    {
     "name": "stdout",
     "output_type": "stream",
     "text": [
      "+--------+------------------------+\n",
      "|courseid|sum(s_course_viewed_avg)|\n",
      "+--------+------------------------+\n",
      "|   76419|                  4777.0|\n",
      "|   71541|                  2674.0|\n",
      "|   71675|                  2608.0|\n",
      "|   73025|                  2566.0|\n",
      "|   83768|                  2502.0|\n",
      "+--------+------------------------+\n",
      "\n"
     ]
    }
   ],
   "source": [
    "sdf.groupBy('courseid').agg(\n",
    "    sum('s_course_viewed_avg')\n",
    ").sort(col('sum(s_course_viewed_avg)').desc()).limit(5).show()"
   ]
  },
  {
   "cell_type": "markdown",
   "id": "ec81a646-65d2-4be0-9bb0-cf9f9a423ce8",
   "metadata": {},
   "source": [
    "## Задание 3: \n",
    "### Мини-исследование\n",
    "\n",
    "Определить: имеется ли связь между количеством просмотров студентов отдельных курсов и количеством студентов, изучающих отдельный курс.\n",
    "\n"
   ]
  },
  {
   "cell_type": "code",
   "execution_count": 18,
   "id": "d674c1ab-1810-4414-8013-815ca01ba975",
   "metadata": {},
   "outputs": [],
   "source": [
    "from pyspark.sql.functions import sum, countDistinct, corr"
   ]
  },
  {
   "cell_type": "code",
   "execution_count": 19,
   "id": "544239d1-6d5d-4e59-920d-72b2bf8445fe",
   "metadata": {},
   "outputs": [],
   "source": [
    "sdf = sdf.withColumn(\"s_course_viewed\", sdf[\"s_course_viewed\"].cast(\"int\"))"
   ]
  },
  {
   "cell_type": "code",
   "execution_count": 20,
   "id": "1eb2381f-c934-4bcc-a9eb-eaa9760dda1d",
   "metadata": {},
   "outputs": [
    {
     "name": "stdout",
     "output_type": "stream",
     "text": [
      "+--------+-----------+---------------+\n",
      "|courseid|total_views|unique_students|\n",
      "+--------+-----------+---------------+\n",
      "|   78382|        215|             10|\n",
      "|   87097|        889|             15|\n",
      "|   72175|       2798|             45|\n",
      "|   73414|        270|             11|\n",
      "|   72314|       6187|             22|\n",
      "|   73555|        162|              7|\n",
      "|   75891|        444|              5|\n",
      "|   88285|        674|             16|\n",
      "|   73086|       1258|             13|\n",
      "|   73043|       3418|             12|\n",
      "+--------+-----------+---------------+\n",
      "only showing top 10 rows\n",
      "\n"
     ]
    }
   ],
   "source": [
    "# Агрегация: суммарное количество просмотров и уникальные студенты по курсу\n",
    "course_stats = sdf.groupBy(\"courseid\").agg(\n",
    "    sum(\"s_course_viewed\").alias(\"total_views\"), \n",
    "    countDistinct(\"userid\").alias(\"unique_students\")\n",
    ")\n",
    "course_stats.show(10)"
   ]
  },
  {
   "cell_type": "code",
   "execution_count": 21,
   "id": "8189d33d-d441-4125-8d3c-0d3f8b887aaa",
   "metadata": {},
   "outputs": [],
   "source": [
    "correlation = course_stats.select(corr(\"total_views\", \"unique_students\")).collect()[0][0]"
   ]
  },
  {
   "cell_type": "code",
   "execution_count": 22,
   "id": "52e5c4c1-3b71-4378-9817-f5b4113b9b0a",
   "metadata": {},
   "outputs": [
    {
     "name": "stdout",
     "output_type": "stream",
     "text": [
      "0.4743706447188514\n"
     ]
    }
   ],
   "source": [
    "print(correlation)"
   ]
  },
  {
   "cell_type": "markdown",
   "id": "0ed3e9c6-1724-4191-83c6-ec556ab62a49",
   "metadata": {},
   "source": [
    "## Задание 4. \n",
    "### Сравнение активности студентов на бюджете и контракте\n",
    "\n",
    "Найти разницу в среднем количестве всех событий (s_all_avg) между студентами на бюджете и контракте (name_osno). \n",
    "\n",
    "Какие выводы можно сделать?\n",
    "\n"
   ]
  },
  {
   "cell_type": "code",
   "execution_count": 23,
   "id": "cdf4293e-d2da-4c1b-ab29-88d16a011f81",
   "metadata": {},
   "outputs": [],
   "source": [
    "from pyspark.sql.functions import col, avg"
   ]
  },
  {
   "cell_type": "code",
   "execution_count": 24,
   "id": "2d60a446-d8cf-42ac-8c10-d19e31ed3195",
   "metadata": {},
   "outputs": [],
   "source": [
    "sdf = sdf.withColumn('s_all_avg', sdf[\"s_all_avg\"].cast(\"float\"))"
   ]
  },
  {
   "cell_type": "code",
   "execution_count": 25,
   "id": "96bdb1a7-d7d8-4058-b845-dbd7d16f2538",
   "metadata": {},
   "outputs": [],
   "source": [
    "activity_stats = sdf.groupBy(\"Name_OsnO\").agg(avg(\"s_all_avg\").alias(\"avg_s_all\"))"
   ]
  },
  {
   "cell_type": "code",
   "execution_count": 26,
   "id": "e592602a-f680-4466-b276-e0bac30fa697",
   "metadata": {},
   "outputs": [
    {
     "name": "stdout",
     "output_type": "stream",
     "text": [
      "+---------+------------------+\n",
      "|Name_OsnO|         avg_s_all|\n",
      "+---------+------------------+\n",
      "|        1|  8.41703942142887|\n",
      "|        2|3.4732525769317584|\n",
      "+---------+------------------+\n",
      "\n"
     ]
    }
   ],
   "source": [
    "activity_stats.show()"
   ]
  },
  {
   "cell_type": "code",
   "execution_count": 27,
   "id": "10369c81-a6fc-44fd-a9ba-045f0351db87",
   "metadata": {},
   "outputs": [
    {
     "name": "stdout",
     "output_type": "stream",
     "text": [
      "Разница в среднем количестве событий: 4.94\n"
     ]
    }
   ],
   "source": [
    "activity_pivot = activity_stats.toPandas().set_index(\"Name_OsnO\").T\n",
    "if \"1\" in activity_pivot and \"2\" in activity_pivot:\n",
    "    diff = activity_pivot[\"1\"].values[0] - activity_pivot[\"2\"].values[0]\n",
    "    print(f\"Разница в среднем количестве событий: {diff:.2f}\")\n",
    "else:\n",
    "    print(\"Ошибка: не удалось найти обе категории (Бюджет и Контракт) в данных.\")"
   ]
  },
  {
   "cell_type": "markdown",
   "id": "24737dd8-ec50-49fc-b56a-421c13ee17f4",
   "metadata": {},
   "source": [
    "## Задание 5.\n",
    "### Исследование зависимости активности студентов от формы обучения\n",
    "\n",
    "Определить, как форма обучения (name_formopril) влияет на активность студентов (s_all_avg)?\n",
    "\n"
   ]
  },
  {
   "cell_type": "code",
   "execution_count": 28,
   "id": "e0798f60-2220-4dd8-ad41-f7efcbb85188",
   "metadata": {},
   "outputs": [
    {
     "name": "stdout",
     "output_type": "stream",
     "text": [
      "+--------------+------------------+\n",
      "|Name_FormOPril|         avg_s_all|\n",
      "+--------------+------------------+\n",
      "|             3|1.2953216374269005|\n",
      "|             1|11.699871821520128|\n",
      "|             2|1.2438109107202868|\n",
      "+--------------+------------------+\n",
      "\n"
     ]
    }
   ],
   "source": [
    "sdf.groupBy(\"Name_FormOPril\").agg(\n",
    "    avg(\"s_all_avg\").alias(\"avg_s_all\")\n",
    ").show()"
   ]
  },
  {
   "cell_type": "markdown",
   "id": "8c2f7ac2-942a-43dd-929d-c3ef7ee833aa",
   "metadata": {},
   "source": [
    "## Задание 6. \n",
    "### Выявление активности студентов по семестрам\n",
    "\n",
    "Определить, в каком семестре (num_sem) студенты проявляют наибольшую активность (по s_all_avg).\n",
    "\n"
   ]
  },
  {
   "cell_type": "code",
   "execution_count": 29,
   "id": "468afb0c-cbff-4435-90cb-ae08e50c437f",
   "metadata": {},
   "outputs": [
    {
     "name": "stdout",
     "output_type": "stream",
     "text": [
      "+-------+-------------------+\n",
      "|num_sem|          s_all_avg|\n",
      "+-------+-------------------+\n",
      "|      8|  3.508361204013378|\n",
      "|      6|  6.696356437227533|\n",
      "|     10|  2.418956814357824|\n",
      "|      4|  6.216743692230827|\n",
      "|      2|  9.363531867267612|\n",
      "|     12|0.08901884340480831|\n",
      "+-------+-------------------+\n",
      "\n"
     ]
    }
   ],
   "source": [
    "sdf.groupBy('num_sem').agg(\n",
    "    avg('s_all_avg').alias('s_all_avg')\n",
    ").show()"
   ]
  },
  {
   "cell_type": "markdown",
   "id": "9b928cc3-9df3-42b3-ac50-54f3080550df",
   "metadata": {},
   "source": [
    "## Задание 7.\n",
    "### Определение кафедр с наибольшей активностью студентов\n",
    "\n",
    "Найти топ-3 кафедры (depart), где студенты наиболее активны (по s_all_avg).\n",
    "\n"
   ]
  },
  {
   "cell_type": "code",
   "execution_count": 30,
   "id": "1a0993b2-70d8-4a00-825d-b493ce99bc18",
   "metadata": {},
   "outputs": [
    {
     "name": "stdout",
     "output_type": "stream",
     "text": [
      "+------+------------------+\n",
      "|depart|         s_all_avg|\n",
      "+------+------------------+\n",
      "|     4|26.657972928359193|\n",
      "|    12|20.158597662771285|\n",
      "|    14| 15.56260819388344|\n",
      "+------+------------------+\n",
      "only showing top 3 rows\n",
      "\n"
     ]
    }
   ],
   "source": [
    "sdf.groupBy('depart').agg(\n",
    "    avg('s_all_avg').alias('s_all_avg')\n",
    ").sort(col('s_all_avg').desc()).show(3)"
   ]
  },
  {
   "cell_type": "markdown",
   "id": "db4ec966-7874-4f24-a2e5-675f04e760f8",
   "metadata": {},
   "source": [
    "## Задание 8. \n",
    "### Анализ успеваемости студентов в зависимости от активности\n",
    "\n",
    "Найти среднюю оценку (namer_level) для студентов с разной активностью (s_all_avg).\n",
    "\n"
   ]
  },
  {
   "cell_type": "code",
   "execution_count": 31,
   "id": "49162590-624f-40a9-bac1-762f081c3f57",
   "metadata": {},
   "outputs": [
    {
     "name": "stdout",
     "output_type": "stream",
     "text": [
      "+---------+------------------+\n",
      "|s_all_avg|   avg_nameR_level|\n",
      "+---------+------------------+\n",
      "|     18.0| 4.282534246575342|\n",
      "|     64.0| 4.362068965517241|\n",
      "|     82.0| 4.457142857142857|\n",
      "|    107.0| 4.217391304347826|\n",
      "|     47.0| 4.325757575757576|\n",
      "|      9.0| 4.229078613693998|\n",
      "|    453.0|               5.0|\n",
      "|     58.0| 4.382022471910112|\n",
      "|    101.0| 4.315789473684211|\n",
      "|      5.0| 4.149025803054239|\n",
      "|     39.0| 4.447368421052632|\n",
      "|    132.0| 4.444444444444445|\n",
      "|    144.0| 4.444444444444445|\n",
      "|     17.0| 4.343465045592705|\n",
      "|     30.0| 4.307971014492754|\n",
      "|    105.0|4.7894736842105265|\n",
      "|    190.0|               4.0|\n",
      "|    117.0|             4.125|\n",
      "|    163.0| 4.666666666666667|\n",
      "|    183.0|               5.0|\n",
      "+---------+------------------+\n",
      "only showing top 20 rows\n",
      "\n"
     ]
    }
   ],
   "source": [
    "sdf.groupBy(\"s_all_avg\").agg(\n",
    "    avg(\"NameR_Level\").alias(\"avg_nameR_level\")\n",
    ").show()"
   ]
  },
  {
   "cell_type": "markdown",
   "id": "5891bf2f-1ed9-45c7-ac7b-353e572dea58",
   "metadata": {},
   "source": [
    "## Задание 9.\n",
    "### Выявление студентов с аномально низкой активностью\n",
    "Найти студентов с количеством событий (s_all_avg) ниже среднего по курсу (kurs).\n",
    "\n",
    "Подсказка: Используйте window functions. \n",
    "`````\n",
    "from pyspark.sql.window import Window\n",
    "from pyspark.sql.functions import mean\n",
    "`````"
   ]
  },
  {
   "cell_type": "code",
   "execution_count": 32,
   "id": "c5d6b98e-65ba-4273-b5d6-5eb43247ea3f",
   "metadata": {},
   "outputs": [],
   "source": [
    "from pyspark.sql.window import Window\n",
    "from pyspark.sql.functions import mean, col"
   ]
  },
  {
   "cell_type": "code",
   "execution_count": 33,
   "id": "4ef0afde-e6a3-454a-b9a3-c7a9b1af9d7e",
   "metadata": {},
   "outputs": [],
   "source": [
    "# Определяем оконную функцию для вычисления среднего значения по каждому курсу (kurs)\n",
    "window_spec = Window.partitionBy(\"kurs\")"
   ]
  },
  {
   "cell_type": "code",
   "execution_count": 34,
   "id": "6fb9e434-f316-43aa-bf68-450bcbdba165",
   "metadata": {},
   "outputs": [],
   "source": [
    "# Вычисляем среднее значение активности по курсу и добавляем его как новый столбец\n",
    "sdf_with_avg = sdf.withColumn(\"avg_s_all_avg\", mean(\"s_all_avg\").over(window_spec))"
   ]
  },
  {
   "cell_type": "code",
   "execution_count": 35,
   "id": "c299fe34-2dce-4a52-91be-326642dcd4a2",
   "metadata": {},
   "outputs": [],
   "source": [
    "# Фильтруем студентов с активностью ниже среднего по курсу\n",
    "students_below_avg = sdf_with_avg.filter(col(\"s_all_avg\") < col(\"avg_s_all_avg\"))"
   ]
  },
  {
   "cell_type": "code",
   "execution_count": 36,
   "id": "cac91725-2cea-4cc7-8651-86706b0c1436",
   "metadata": {},
   "outputs": [
    {
     "name": "stdout",
     "output_type": "stream",
     "text": [
      "+------+----+---------+-----------------+\n",
      "|userid|kurs|s_all_avg|avg_s_all_avg    |\n",
      "+------+----+---------+-----------------+\n",
      "|34527 |2   |9.0      |9.363531867267612|\n",
      "|34527 |2   |3.0      |9.363531867267612|\n",
      "|34527 |2   |1.0      |9.363531867267612|\n",
      "|34609 |2   |6.0      |9.363531867267612|\n",
      "|34609 |2   |1.0      |9.363531867267612|\n",
      "|34609 |2   |1.0      |9.363531867267612|\n",
      "|34610 |2   |8.0      |9.363531867267612|\n",
      "|34610 |2   |4.0      |9.363531867267612|\n",
      "|34610 |2   |2.0      |9.363531867267612|\n",
      "|34610 |2   |2.0      |9.363531867267612|\n",
      "|34611 |2   |6.0      |9.363531867267612|\n",
      "|34611 |2   |4.0      |9.363531867267612|\n",
      "|34611 |2   |3.0      |9.363531867267612|\n",
      "|34611 |2   |2.0      |9.363531867267612|\n",
      "|34611 |2   |1.0      |9.363531867267612|\n",
      "|34612 |2   |9.0      |9.363531867267612|\n",
      "|34612 |2   |6.0      |9.363531867267612|\n",
      "|34612 |2   |4.0      |9.363531867267612|\n",
      "|34612 |2   |3.0      |9.363531867267612|\n",
      "|34613 |2   |8.0      |9.363531867267612|\n",
      "+------+----+---------+-----------------+\n",
      "only showing top 20 rows\n",
      "\n"
     ]
    }
   ],
   "source": [
    "# Выводим результаты\n",
    "students_below_avg.select(\"userid\", \"kurs\", \"s_all_avg\", \"avg_s_all_avg\").show(truncate=False)"
   ]
  },
  {
   "cell_type": "markdown",
   "id": "41caeccc-a63f-453e-a707-cd13ce9e9287",
   "metadata": {},
   "source": [
    "## Задание 10.\n",
    "### Кластеризация студентов по активности \n",
    "\n",
    "Разделить студентов на 3 группы (низкая, средняя, высокая активность) с помощью K-Means.\n",
    "\n",
    "Примечание.  Используйте KMeans из pyspark.ml.clustering. \n",
    "Обратите внимание, что по каждому студенту в наборе данных представлены логи, поэтому прежде чем проводить кластеризацию нужно сначала  провести агрегацию данных для каждого студента."
   ]
  },
  {
   "cell_type": "code",
   "execution_count": 37,
   "id": "d3fe2193-1d69-4155-83ba-dbfc07e70dd7",
   "metadata": {},
   "outputs": [],
   "source": [
    "from pyspark.ml.clustering import KMeans\n",
    "from pyspark.ml.feature import VectorAssembler\n",
    "from pyspark.sql.functions import col"
   ]
  },
  {
   "cell_type": "code",
   "execution_count": 40,
   "id": "3258249e-93b6-4251-aac7-96f63e20bf95",
   "metadata": {},
   "outputs": [],
   "source": [
    "# 1. Агрегация данных по каждому студенту\n",
    "student_activity = sdf.groupBy(\"userid\").agg(\n",
    "    # Используем среднее значение активности для каждого студента\n",
    "    mean(\"s_course_viewed\").alias(\"avg_course_viewed\"),\n",
    "    mean(\"s_q_attempt_viewed\").alias(\"avg_attempt_viewed\"),\n",
    "    mean(\"s_a_submission_status_viewed\").alias(\"avg_submission_status_viewed\"),\n",
    "    mean(\"s_all\").alias(\"avg_s_all\")\n",
    ")"
   ]
  },
  {
   "cell_type": "code",
   "execution_count": 41,
   "id": "66cde6ab-cd93-4d3a-91c0-970f48eb3755",
   "metadata": {},
   "outputs": [],
   "source": [
    "# 2. Используем VectorAssembler для подготовки данных для KMeans\n",
    "# KMeans требует, чтобы входные данные были в виде вектора признаков.\n",
    "vector_assembler = VectorAssembler(inputCols=[\"avg_course_viewed\", \"avg_attempt_viewed\", \n",
    "                                              \"avg_submission_status_viewed\", \"avg_s_all\"], outputCol=\"features\")\n",
    "student_activity_vectorized = vector_assembler.transform(student_activity)"
   ]
  },
  {
   "cell_type": "code",
   "execution_count": 42,
   "id": "3c94d7f7-36b1-4c96-9528-4ff0d6040094",
   "metadata": {},
   "outputs": [],
   "source": [
    "# 3. Применяем KMeans для кластеризации студентов на 3 группы\n",
    "kmeans = KMeans(k=3, seed=1, featuresCol=\"features\", predictionCol=\"cluster\")\n",
    "model = kmeans.fit(student_activity_vectorized)"
   ]
  },
  {
   "cell_type": "code",
   "execution_count": 43,
   "id": "0974126f-f47a-4456-8ed1-8e150edece60",
   "metadata": {},
   "outputs": [],
   "source": [
    "# 4. Получаем результаты кластеризации\n",
    "student_activity_with_cluster = model.transform(student_activity_vectorized)"
   ]
  },
  {
   "cell_type": "code",
   "execution_count": 44,
   "id": "2579c5b1-b165-49f0-8101-a75cc1674dae",
   "metadata": {},
   "outputs": [
    {
     "name": "stdout",
     "output_type": "stream",
     "text": [
      "+------+--------------------+------------------+----------------------------+-------------------+-------+\n",
      "|userid|avg_course_viewed   |avg_attempt_viewed|avg_submission_status_viewed|avg_s_all          |cluster|\n",
      "+------+--------------------+------------------+----------------------------+-------------------+-------+\n",
      "|35444 |0.4444444444444444  |0.0               |0.06944444444444445         |0.8333333333333334 |0      |\n",
      "|34657 |3.2708333333333335  |0.2604166666666667|1.1979166666666667          |10.791666666666666 |0      |\n",
      "|29089 |0.8333333333333334  |1.7708333333333333|0.20833333333333334         |4.375              |0      |\n",
      "|29573 |0.7708333333333334  |0.4583333333333333|1.2916666666666667          |7.541666666666667  |0      |\n",
      "|30966 |0.08333333333333333 |0.0               |0.041666666666666664        |0.16666666666666666|0      |\n",
      "|35350 |1.1041666666666667  |1.3125            |0.19791666666666666         |4.125              |0      |\n",
      "|29539 |1.4027777777777777  |0.3055555555555556|1.1388888888888888          |6.194444444444445  |0      |\n",
      "|21783 |0.1527777777777778  |0.0               |0.18055555555555555         |0.7916666666666666 |0      |\n",
      "|24269 |1.7638888888888888  |1.2777777777777777|1.2916666666666667          |8.319444444444445  |0      |\n",
      "|22121 |0.125               |1.0               |0.10416666666666667         |1.4791666666666667 |0      |\n",
      "|5613  |0.875               |0.0               |0.3125                      |2.125              |0      |\n",
      "|24528 |0.6041666666666666  |0.0               |0.20833333333333334         |1.75               |0      |\n",
      "|27492 |0.3541666666666667  |0.0               |0.0625                      |0.875              |0      |\n",
      "|15539 |0.0                 |0.0               |0.0                         |0.125              |0      |\n",
      "|24078 |0.041666666666666664|0.0               |0.0                         |0.08333333333333333|0      |\n",
      "|25350 |1.25                |1.5208333333333333|0.9791666666666666          |6.979166666666667  |0      |\n",
      "|30054 |0.041666666666666664|0.0               |0.0                         |0.125              |0      |\n",
      "|35438 |1.2361111111111112  |1.3055555555555556|0.09722222222222222         |4.152777777777778  |0      |\n",
      "|27753 |0.375               |0.0               |0.19444444444444445         |0.9583333333333334 |0      |\n",
      "|27563 |0.6770833333333334  |0.0               |0.59375                     |2.4583333333333335 |0      |\n",
      "+------+--------------------+------------------+----------------------------+-------------------+-------+\n",
      "only showing top 20 rows\n",
      "\n"
     ]
    }
   ],
   "source": [
    "# 5. Выводим результаты (студент, активность, кластер)\n",
    "student_activity_with_cluster.select(\n",
    "    \"userid\", \n",
    "    \"avg_course_viewed\",\n",
    "    \"avg_attempt_viewed\",\n",
    "    \"avg_submission_status_viewed\",\n",
    "    \"avg_s_all\", \n",
    "    \"cluster\").show(truncate=False)"
   ]
  },
  {
   "cell_type": "code",
   "execution_count": 46,
   "id": "b0c7cb29-c31a-4eaf-9839-ced318412725",
   "metadata": {},
   "outputs": [
    {
     "name": "stdout",
     "output_type": "stream",
     "text": [
      "+------+--------------------+------------------+----------------------------+-------------------+-----------------------------------------------------------------------------+-------+\n",
      "|userid|avg_course_viewed   |avg_attempt_viewed|avg_submission_status_viewed|avg_s_all          |features                                                                     |cluster|\n",
      "+------+--------------------+------------------+----------------------------+-------------------+-----------------------------------------------------------------------------+-------+\n",
      "|35444 |0.4444444444444444  |0.0               |0.06944444444444445         |0.8333333333333334 |[0.4444444444444444,0.0,0.06944444444444445,0.8333333333333334]              |0      |\n",
      "|34657 |3.2708333333333335  |0.2604166666666667|1.1979166666666667          |10.791666666666666 |[3.2708333333333335,0.2604166666666667,1.1979166666666667,10.791666666666666]|0      |\n",
      "|29089 |0.8333333333333334  |1.7708333333333333|0.20833333333333334         |4.375              |[0.8333333333333334,1.7708333333333333,0.20833333333333334,4.375]            |0      |\n",
      "|29573 |0.7708333333333334  |0.4583333333333333|1.2916666666666667          |7.541666666666667  |[0.7708333333333334,0.4583333333333333,1.2916666666666667,7.541666666666667] |0      |\n",
      "|30966 |0.08333333333333333 |0.0               |0.041666666666666664        |0.16666666666666666|[0.08333333333333333,0.0,0.041666666666666664,0.16666666666666666]           |0      |\n",
      "|35350 |1.1041666666666667  |1.3125            |0.19791666666666666         |4.125              |[1.1041666666666667,1.3125,0.19791666666666666,4.125]                        |0      |\n",
      "|29539 |1.4027777777777777  |0.3055555555555556|1.1388888888888888          |6.194444444444445  |[1.4027777777777777,0.3055555555555556,1.1388888888888888,6.194444444444445] |0      |\n",
      "|21783 |0.1527777777777778  |0.0               |0.18055555555555555         |0.7916666666666666 |[0.1527777777777778,0.0,0.18055555555555555,0.7916666666666666]              |0      |\n",
      "|24269 |1.7638888888888888  |1.2777777777777777|1.2916666666666667          |8.319444444444445  |[1.7638888888888888,1.2777777777777777,1.2916666666666667,8.319444444444445] |0      |\n",
      "|22121 |0.125               |1.0               |0.10416666666666667         |1.4791666666666667 |[0.125,1.0,0.10416666666666667,1.4791666666666667]                           |0      |\n",
      "|5613  |0.875               |0.0               |0.3125                      |2.125              |[0.875,0.0,0.3125,2.125]                                                     |0      |\n",
      "|24528 |0.6041666666666666  |0.0               |0.20833333333333334         |1.75               |[0.6041666666666666,0.0,0.20833333333333334,1.75]                            |0      |\n",
      "|27492 |0.3541666666666667  |0.0               |0.0625                      |0.875              |[0.3541666666666667,0.0,0.0625,0.875]                                        |0      |\n",
      "|15539 |0.0                 |0.0               |0.0                         |0.125              |(4,[3],[0.125])                                                              |0      |\n",
      "|24078 |0.041666666666666664|0.0               |0.0                         |0.08333333333333333|[0.041666666666666664,0.0,0.0,0.08333333333333333]                           |0      |\n",
      "|25350 |1.25                |1.5208333333333333|0.9791666666666666          |6.979166666666667  |[1.25,1.5208333333333333,0.9791666666666666,6.979166666666667]               |0      |\n",
      "|30054 |0.041666666666666664|0.0               |0.0                         |0.125              |[0.041666666666666664,0.0,0.0,0.125]                                         |0      |\n",
      "|35438 |1.2361111111111112  |1.3055555555555556|0.09722222222222222         |4.152777777777778  |[1.2361111111111112,1.3055555555555556,0.09722222222222222,4.152777777777778]|0      |\n",
      "|27753 |0.375               |0.0               |0.19444444444444445         |0.9583333333333334 |[0.375,0.0,0.19444444444444445,0.9583333333333334]                           |0      |\n",
      "|27563 |0.6770833333333334  |0.0               |0.59375                     |2.4583333333333335 |[0.6770833333333334,0.0,0.59375,2.4583333333333335]                          |0      |\n",
      "+------+--------------------+------------------+----------------------------+-------------------+-----------------------------------------------------------------------------+-------+\n",
      "only showing top 20 rows\n",
      "\n"
     ]
    }
   ],
   "source": [
    "student_activity_with_cluster.filter(col(\"cluster\") == 0).show(truncate=False)  # Кластер 0"
   ]
  },
  {
   "cell_type": "code",
   "execution_count": 47,
   "id": "c2a6d935-a03d-4a58-a13e-9b4a147476f0",
   "metadata": {},
   "outputs": [
    {
     "name": "stdout",
     "output_type": "stream",
     "text": [
      "+------+------------------+------------------+----------------------------+------------------+----------------------------------------------------------------------------+-------+\n",
      "|userid|avg_course_viewed |avg_attempt_viewed|avg_submission_status_viewed|avg_s_all         |features                                                                    |cluster|\n",
      "+------+------------------+------------------+----------------------------+------------------+----------------------------------------------------------------------------+-------+\n",
      "|20252 |10.333333333333334|7.791666666666667 |7.308333333333334           |38.36666666666667 |[10.333333333333334,7.791666666666667,7.308333333333334,38.36666666666667]  |1      |\n",
      "|34452 |5.208333333333333 |11.770833333333334|4.604166666666667           |40.229166666666664|[5.208333333333333,11.770833333333334,4.604166666666667,40.229166666666664] |1      |\n",
      "|33853 |6.513888888888889 |10.708333333333334|7.597222222222222           |51.236111111111114|[6.513888888888889,10.708333333333334,7.597222222222222,51.236111111111114] |1      |\n",
      "|33927 |8.63888888888889  |12.472222222222221|8.041666666666666           |54.80555555555556 |[8.63888888888889,12.472222222222221,8.041666666666666,54.80555555555556]   |1      |\n",
      "|24598 |12.041666666666666|1.3611111111111112|12.01388888888889           |55.208333333333336|[12.041666666666666,1.3611111111111112,12.01388888888889,55.208333333333336]|1      |\n",
      "|24423 |15.444444444444445|12.694444444444445|10.847222222222221          |94.38888888888889 |[15.444444444444445,12.694444444444445,10.847222222222221,94.38888888888889]|1      |\n",
      "|33690 |3.236111111111111 |8.833333333333334 |5.069444444444445           |45.263888888888886|[3.236111111111111,8.833333333333334,5.069444444444445,45.263888888888886]  |1      |\n",
      "|29761 |9.385416666666666 |5.09375           |8.0625                      |42.729166666666664|[9.385416666666666,5.09375,8.0625,42.729166666666664]                       |1      |\n",
      "|34219 |22.15277777777778 |29.208333333333332|18.833333333333332          |128.81944444444446|[22.15277777777778,29.208333333333332,18.833333333333332,128.81944444444446]|1      |\n",
      "|24575 |9.930555555555555 |0.0               |15.458333333333334          |58.18055555555556 |[9.930555555555555,0.0,15.458333333333334,58.18055555555556]                |1      |\n",
      "|24403 |5.583333333333333 |21.51388888888889 |5.402777777777778           |50.666666666666664|[5.583333333333333,21.51388888888889,5.402777777777778,50.666666666666664]  |1      |\n",
      "|28887 |9.055555555555555 |5.763888888888889 |6.194444444444445           |48.388888888888886|[9.055555555555555,5.763888888888889,6.194444444444445,48.388888888888886]  |1      |\n",
      "|34201 |9.069444444444445 |7.986111111111111 |5.958333333333333           |39.68055555555556 |[9.069444444444445,7.986111111111111,5.958333333333333,39.68055555555556]   |1      |\n",
      "|34214 |4.375             |22.083333333333332|0.625                       |40.0              |[4.375,22.083333333333332,0.625,40.0]                                       |1      |\n",
      "|33897 |11.416666666666666|12.805555555555555|6.083333333333333           |56.111111111111114|[11.416666666666666,12.805555555555555,6.083333333333333,56.111111111111114]|1      |\n",
      "|20636 |11.805555555555555|13.958333333333334|9.222222222222221           |60.52777777777778 |[11.805555555555555,13.958333333333334,9.222222222222221,60.52777777777778] |1      |\n",
      "|33428 |4.444444444444445 |15.305555555555555|3.013888888888889           |39.15277777777778 |[4.444444444444445,15.305555555555555,3.013888888888889,39.15277777777778]  |1      |\n",
      "|33583 |18.541666666666668|16.283333333333335|10.45                       |76.05             |[18.541666666666668,16.283333333333335,10.45,76.05]                         |1      |\n",
      "|34783 |8.666666666666666 |14.652777777777779|4.208333333333333           |48.65277777777778 |[8.666666666666666,14.652777777777779,4.208333333333333,48.65277777777778]  |1      |\n",
      "|29360 |12.270833333333334|6.5625            |8.958333333333334           |58.708333333333336|[12.270833333333334,6.5625,8.958333333333334,58.708333333333336]            |1      |\n",
      "+------+------------------+------------------+----------------------------+------------------+----------------------------------------------------------------------------+-------+\n",
      "only showing top 20 rows\n",
      "\n"
     ]
    }
   ],
   "source": [
    "student_activity_with_cluster.filter(col(\"cluster\") == 1).show(truncate=False)  # Кластер 1"
   ]
  },
  {
   "cell_type": "code",
   "execution_count": 48,
   "id": "e73ab1bd-a663-42dc-ab8b-2591fd446e77",
   "metadata": {},
   "outputs": [
    {
     "name": "stdout",
     "output_type": "stream",
     "text": [
      "+------+------------------+-------------------+----------------------------+------------------+----------------------------------------------------------------------------+-------+\n",
      "|userid|avg_course_viewed |avg_attempt_viewed |avg_submission_status_viewed|avg_s_all         |features                                                                    |cluster|\n",
      "+------+------------------+-------------------+----------------------------+------------------+----------------------------------------------------------------------------+-------+\n",
      "|34155 |6.722222222222222 |0.0                |6.819444444444445           |34.875            |[6.722222222222222,0.0,6.819444444444445,34.875]                            |2      |\n",
      "|34602 |3.875             |10.875             |0.625                       |29.166666666666668|[3.875,10.875,0.625,29.166666666666668]                                     |2      |\n",
      "|33776 |3.9444444444444446|2.5                |3.888888888888889           |21.76388888888889 |[3.9444444444444446,2.5,3.888888888888889,21.76388888888889]                |2      |\n",
      "|29380 |6.027777777777778 |1.9861111111111112 |3.861111111111111           |25.22222222222222 |[6.027777777777778,1.9861111111111112,3.861111111111111,25.22222222222222]  |2      |\n",
      "|35297 |2.3645833333333335|6.447916666666667  |3.1145833333333335          |23.541666666666668|[2.3645833333333335,6.447916666666667,3.1145833333333335,23.541666666666668]|2      |\n",
      "|36019 |4.158333333333333 |8.325              |2.525                       |24.825            |[4.158333333333333,8.325,2.525,24.825]                                      |2      |\n",
      "|29444 |12.458333333333334|3.6527777777777777 |4.5                         |33.916666666666664|[12.458333333333334,3.6527777777777777,4.5,33.916666666666664]              |2      |\n",
      "|29580 |8.152777777777779 |2.5972222222222223 |2.75                        |21.416666666666668|[8.152777777777779,2.5972222222222223,2.75,21.416666666666668]              |2      |\n",
      "|34958 |4.270833333333333 |0.0                |7.4375                      |31.333333333333332|[4.270833333333333,0.0,7.4375,31.333333333333332]                           |2      |\n",
      "|34316 |4.027777777777778 |5.513888888888889  |3.513888888888889           |23.916666666666668|[4.027777777777778,5.513888888888889,3.513888888888889,23.916666666666668]  |2      |\n",
      "|36182 |6.597222222222222 |2.2222222222222223 |4.166666666666667           |25.430555555555557|[6.597222222222222,2.2222222222222223,4.166666666666667,25.430555555555557] |2      |\n",
      "|35299 |2.7222222222222223|10.430555555555555 |4.555555555555555           |32.958333333333336|[2.7222222222222223,10.430555555555555,4.555555555555555,32.958333333333336]|2      |\n",
      "|29230 |4.28125           |5.489583333333333  |3.4375                      |21.041666666666668|[4.28125,5.489583333333333,3.4375,21.041666666666668]                       |2      |\n",
      "|34044 |3.8333333333333335|3.3541666666666665 |4.270833333333333           |24.229166666666668|[3.8333333333333335,3.3541666666666665,4.270833333333333,24.229166666666668]|2      |\n",
      "|29785 |3.4444444444444446|0.3055555555555556 |2.0555555555555554          |13.86111111111111 |[3.4444444444444446,0.3055555555555556,2.0555555555555554,13.86111111111111]|2      |\n",
      "|29382 |8.180555555555555 |3.9166666666666665 |4.847222222222222           |38.013888888888886|[8.180555555555555,3.9166666666666665,4.847222222222222,38.013888888888886] |2      |\n",
      "|33864 |5.983333333333333 |7.091666666666667  |2.9916666666666667          |30.625            |[5.983333333333333,7.091666666666667,2.9916666666666667,30.625]             |2      |\n",
      "|35575 |5.489583333333333 |5.864583333333333  |3.34375                     |29.15625          |[5.489583333333333,5.864583333333333,3.34375,29.15625]                      |2      |\n",
      "|33720 |3.0               |0.09722222222222222|2.8194444444444446          |15.277777777777779|[3.0,0.09722222222222222,2.8194444444444446,15.277777777777779]             |2      |\n",
      "|23728 |4.6875            |11.083333333333334 |3.0                         |25.854166666666668|[4.6875,11.083333333333334,3.0,25.854166666666668]                          |2      |\n",
      "+------+------------------+-------------------+----------------------------+------------------+----------------------------------------------------------------------------+-------+\n",
      "only showing top 20 rows\n",
      "\n"
     ]
    }
   ],
   "source": [
    "student_activity_with_cluster.filter(col(\"cluster\") == 2).show(truncate=False)  # Кластер 2"
   ]
  },
  {
   "cell_type": "code",
   "execution_count": 50,
   "id": "8c27ffd3-a23f-4cc4-aa07-6630803c7074",
   "metadata": {},
   "outputs": [
    {
     "name": "stdout",
     "output_type": "stream",
     "text": [
      "+-------+-----+\n",
      "|cluster|count|\n",
      "+-------+-----+\n",
      "|      1|  318|\n",
      "|      2| 1181|\n",
      "|      0| 4817|\n",
      "+-------+-----+\n",
      "\n"
     ]
    }
   ],
   "source": [
    "student_activity_with_cluster.groupBy(\"cluster\").count().show()"
   ]
  },
  {
   "cell_type": "code",
   "execution_count": null,
   "id": "9f8999b0-a2a4-46a4-bd7c-305e00808857",
   "metadata": {},
   "outputs": [],
   "source": []
  }
 ],
 "metadata": {
  "kernelspec": {
   "display_name": "Python 3 (ipykernel)",
   "language": "python",
   "name": "python3"
  },
  "language_info": {
   "codemirror_mode": {
    "name": "ipython",
    "version": 3
   },
   "file_extension": ".py",
   "mimetype": "text/x-python",
   "name": "python",
   "nbconvert_exporter": "python",
   "pygments_lexer": "ipython3",
   "version": "3.11.10"
  }
 },
 "nbformat": 4,
 "nbformat_minor": 5
}

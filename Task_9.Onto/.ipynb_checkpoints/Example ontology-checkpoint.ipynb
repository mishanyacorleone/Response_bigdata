{
 "cells": [
  {
   "cell_type": "markdown",
   "id": "46fa8c3e-a8d4-4d4e-8ae1-b5cf834ae5e8",
   "metadata": {},
   "source": [
    "# Онтологии в музыкальном домене: 10 заданий на Python с OWLready2, RDFLib, SPARQL"
   ]
  },
  {
   "cell_type": "markdown",
   "id": "8da6c008-2e5f-496c-9478-5fc8a14ce3bd",
   "metadata": {},
   "source": [
    "**Онтология (ontology)** - формальное описание предметной области, включающее классы, свойства, отношения и индивиды.\n",
    "\n",
    "Назначение онтологии: моделирует знания — позволяет описывать объекты (например, песни и исполнителей) и связи между ними.\n",
    "Пример создания онтологии:\n",
    "\n",
    "```\n",
    "onto = get_ontology(\"http://example.org/music_ontology.owl\")\n",
    "```\n",
    "Обратите внимание! Когда вы делаете get_ontology(\"http://example.org/music_ontology.owl\"), Owlready2 сопоставляет эту же IRI с уже загруженным объектом в своей «среде» (default_world). Удаление файлов на диске не очищает объекты, которые уже находятся в памяти: классы, свойства и индивидуумы, связанные с этой IRI, всё ещё живы в default_world. Поэтому при повторном get_ontology вы получаете тот же самый объект, а не создаёте новый «с нуля».\n",
    "\n",
    "**IRI (Internationalized Resource Identifier)** — это расширение понятия URI (Uniform Resource Identifier), позволяющее использовать в идентификаторах не‑ASCII символы (кириллицу, иероглифы и прочие). В контексте RDF/OWL‑онтологий IRI выполняет роль глобального уникального имени для всех сущностей:\n",
    "- Ресурсов (классов, свойств, индивидуумов)\n",
    "- Онтологий (файлов или пространств имён)\n",
    "- Литералов и датatypes\n",
    "Основные характеристики IRI:\n",
    "- Универсальность: одно и то же IRI в любой точке мира будет ссылкой на один и тот же ресурс.\n",
    "- Международность: допускается использование символов различных письменностей, например:\n",
    "```\n",
    "http://пример.рф/онтология#Песня\n",
    "```\n",
    "Структура: похожа на URL, но допускает широкий набор символов за счёт кодирования в UTF‑8.\n",
    "\n",
    "Зачем нужны IRI в онтологиях? \n",
    "- Уникальность - позволяют однозначно отличать классы и свойства разных онтологий.\n",
    "- Связь с веб‑ресурсами - часто IRI совпадают с URL, по которому можно получить описание онтологии или документацию.\n",
    "- Интеграция и объединение - разные онтологии могут ссылаться друг на друга через IRI, объединяя знания.\n",
    "\n",
    "Чтобы получить действительно чистую онтологию, можно воспользоваться следующими механизмами:\n",
    "\n",
    "1. Создать свой собственный World\n",
    "```\n",
    "from owlready2 import World\n",
    "\n",
    "# каждый World хранит свои собственные онтологии в памяти\n",
    "world = World()\n",
    "onto = world.get_ontology(\"http://example.org/music_ontology.owl\")\n",
    "# … работаем с onto …\n",
    "```\n",
    "При следующем запуске вы можете создать новый World, и он не будет хранить старые объекты.\n",
    "\n",
    "2. Удалить старую онтологию из default_world\n",
    "```\n",
    "from owlready2 import default_world\n",
    "\n",
    "# получить ссылку на старую онтологию\n",
    "old_onto = default_world.get_ontology(\"http://example.org/music_ontology.owl\")\n",
    "\n",
    "# удалить её из памяти\n",
    "if old_onto in default_world.ontologies.values():\n",
    "    default_world.ontologies.pop(old_onto.base_iri)\n",
    "\n",
    "# теперь get_ontology создаст свежий объект\n",
    "onto = default_world.get_ontology(\"http://example.org/music_ontology.owl\")\n",
    "```\n",
    "3. Использовать уникальные IRI (например, с датой/uuid)\n",
    "Если вы каждый раз даёте новой онтологии уникальный IRI, она никогда не пересечётся с уже загруженной.\n",
    "\n",
    "```\n",
    "import uuid\n",
    "iri = f\"http://example.org/music_{uuid.uuid4()}.owl\"\n",
    "onto = get_ontology(iri)\n",
    "```\n",
    "**Класс (Class)** - абстрактное понятие, объединяющее объекты с общими свойствами. Класс используется для описания типов объектов (экземпляров).\n",
    "\n",
    "Пример создания класса:\n",
    "```\n",
    "class Genre(Thing): pass\n",
    "class Artist(Thing): pass\n",
    "class Song(Thing): pass\n",
    "```\n",
    "Виды:\n",
    "- Thing — базовый класс во всех OWL-онтологиях.\n",
    "- Пользовательские: Genre, Artist, Song — классы, описывающие жанры, исполнителей и песни.\n",
    "\n",
    "**Свойство (Property)** - описание отношения между объектами. Свойство устанавливает связи между экземплярами разных классов.\n",
    "Пример создания свойства:\n",
    "```\n",
    "class performs(Artist >> Song): pass\n",
    "class has_genre(Song >> Genre): pass\n",
    "```\n",
    "Виды:\n",
    "- Object Property (отношение между объектами) — как в коде, так называемое объектное свойство.\n",
    "- Data Property (отношение с данными, например, строка, число) — не используется в этом примере. Data Property в owlready2 - свойство, связывающее индивида с конкретным значением (строкой, числом, датой и т.д.).\n",
    "\n",
    "**Индивидуум / экземпляр (Individual / Instance)** - конкретный объект предметной области, принадлежащий определённому классу. Индивидуум представляет реальные сущности (конкретные песни, исполнителей, жанры).\n",
    "\n",
    "Пример создания индивидуума:\n",
    "```\n",
    "rock = Genre(\"rock\")\n",
    "pop = Genre(\"pop\")\n",
    "\n",
    "queen = Artist(\"queen\")\n",
    "taylorswift = Artist(\"taylorswift\")\n",
    "\n",
    "song1 = Song(\"bohemian_rhapsody\")\n",
    "song2 = Song(\"shake_it_off\")\n",
    "```\n",
    "**Отношения между экземплярами** - связывает объекты с другими объектами по определённым правилам (через свойства).\n",
    "\n",
    "Пример создания отношения:\n",
    "```\n",
    "queen.performs.append(song1)\n",
    "taylorswift.performs.append(song2)\n",
    "\n",
    "song1.has_genre.append(rock)\n",
    "song2.has_genre.append(pop)\n",
    "\n",
    "```"
   ]
  },
  {
   "cell_type": "code",
   "execution_count": 1,
   "id": "2a0b6b04-85ae-4381-b6ee-91f1fe6ea212",
   "metadata": {},
   "outputs": [
    {
     "name": "stdout",
     "output_type": "stream",
     "text": [
      "Requirement already satisfied: owlready2 in /opt/conda/lib/python3.12/site-packages (0.47)\n",
      "Requirement already satisfied: rdflib in /opt/conda/lib/python3.12/site-packages (7.1.4)\n",
      "Requirement already satisfied: SPARQLWrapper in /opt/conda/lib/python3.12/site-packages (2.0.0)\n",
      "Requirement already satisfied: pyparsing<4,>=2.1.0 in /opt/conda/lib/python3.12/site-packages (from rdflib) (3.2.0)\n",
      "\n",
      "\u001b[1m[\u001b[0m\u001b[34;49mnotice\u001b[0m\u001b[1;39;49m]\u001b[0m\u001b[39;49m A new release of pip is available: \u001b[0m\u001b[31;49m25.0\u001b[0m\u001b[39;49m -> \u001b[0m\u001b[32;49m25.0.1\u001b[0m\n",
      "\u001b[1m[\u001b[0m\u001b[34;49mnotice\u001b[0m\u001b[1;39;49m]\u001b[0m\u001b[39;49m To update, run: \u001b[0m\u001b[32;49mpip install --upgrade pip\u001b[0m\n"
     ]
    }
   ],
   "source": [
    "# Установка необходимых библиотек\n",
    "!pip install owlready2 rdflib SPARQLWrapper"
   ]
  },
  {
   "cell_type": "markdown",
   "id": "0b7f1742-1cd9-4208-a9b5-104f8897bdc5",
   "metadata": {},
   "source": [
    "# 📘 Создание базовой онтологии\n",
    "\n",
    "1. Создаём классы: Artist, Song, Genre.\n",
    "2. Добавляем несколько индивидуумов и сохраняем онтологию в формате OWL.\n"
   ]
  },
  {
   "cell_type": "code",
   "execution_count": 33,
   "id": "7b6d7169-50d4-49ed-b111-2a92366d5762",
   "metadata": {},
   "outputs": [],
   "source": [
    "from owlready2 import *\n",
    "\n",
    "onto = get_ontology(\"http://example.org/music_ontology.owl\")\n",
    "\n",
    "with onto:\n",
    "    class Genre(Thing): pass\n",
    "    class Artist(Thing): pass\n",
    "    class Song(Thing): pass\n",
    "\n",
    "    class performs(Artist >> Song): pass\n",
    "    class has_genre(Song >> Genre): pass\n",
    "\n",
    "    rock = Genre(\"rock\")\n",
    "    pop = Genre(\"pop\")\n",
    "\n",
    "    queen = Artist(\"queen\")\n",
    "    taylorswift = Artist(\"taylorswift\")\n",
    "\n",
    "    song1 = Song(\"bohemian_rhapsody\")\n",
    "    song2 = Song(\"shake_it_off\")\n",
    "\n",
    "    queen.performs.append(song1)\n",
    "    taylorswift.performs.append(song2)\n",
    "\n",
    "    song1.has_genre.append(rock)\n",
    "    song2.has_genre.append(pop)\n",
    "\n",
    "onto.save(file=\"music_ontology.owl\", format=\"rdfxml\")# сохраняем онтологию -сериализация онтологии в файл, формат rdfxml — один из стандартов представления RDF/OWL."
   ]
  },
  {
   "cell_type": "markdown",
   "id": "0e8dc326-9fa4-487b-9e5e-211172e2c48e",
   "metadata": {},
   "source": [
    "# 📘 Загрузка онтологии и просмотр триплетов\n",
    "\n",
    "Загружаем OWL-файл и выводим связи для каждого индивидуума.\n"
   ]
  },
  {
   "cell_type": "code",
   "execution_count": 35,
   "id": "193ba7b2-1953-4861-a9fa-3bdd35482be3",
   "metadata": {},
   "outputs": [
    {
     "name": "stdout",
     "output_type": "stream",
     "text": [
      "rock (Genre)\n",
      "pop (Genre)\n",
      "queen (Artist)\n",
      "  performs -> bohemian_rhapsody\n",
      "  performs -> bohemian_rhapsody\n",
      "  performs -> bohemian_rhapsody\n",
      "taylorswift (Artist)\n",
      "  performs -> shake_it_off\n",
      "  performs -> shake_it_off\n",
      "  performs -> shake_it_off\n",
      "bohemian_rhapsody (Song)\n",
      "  has_genre -> rock\n",
      "  has_genre -> rock\n",
      "  has_genre -> rock\n",
      "shake_it_off (Song)\n",
      "  has_genre -> pop\n",
      "  has_genre -> pop\n",
      "  has_genre -> pop\n",
      "edsheeran (Artist)\n",
      "  performs -> perfect\n",
      "  performs -> perfect\n",
      "perfect (Song)\n",
      "  has_genre -> ballad\n",
      "  has_genre -> ballad\n",
      "ballad (Genre)\n",
      "metallica (Artist)\n",
      "  performs -> nothing_else_matters\n",
      "  performs -> nothing_else_matters\n",
      "  performs -> nothing_else_matters\n",
      "  performs -> nothing_else_matters\n",
      "nothing_else_matters (Song)\n",
      "  has_genre -> rock\n",
      "  has_genre -> rock\n",
      "  has_genre -> rock\n",
      "  has_genre -> rock\n",
      "avicii (Artist)\n",
      "  performs -> wake_me_up\n",
      "  performs -> wake_me_up\n",
      "  performs -> wake_me_up\n",
      "  performs -> wake_me_up\n",
      "wake_me_up (Song)\n",
      "  has_genre -> None\n",
      "  has_genre -> electronic\n",
      "  has_genre -> electronic\n",
      "  has_genre -> electronic\n",
      "electronic (Genre)\n"
     ]
    }
   ],
   "source": [
    "onload = get_ontology(\"music_ontology.owl\").load()\n",
    "\n",
    "for ind in onload.individuals():\n",
    "    print(f\"{ind.name} ({ind.__class__.__name__})\")\n",
    "    for prop in ind.get_properties():\n",
    "        for val in prop[ind]:\n",
    "            if val is not None:  # Проверяем, что значение не None\n",
    "                print(f\"  {prop.name} -> {val.name}\")\n",
    "            else:\n",
    "                print(f\"  {prop.name} -> None\")\n"
   ]
  },
  {
   "cell_type": "markdown",
   "id": "bf3e1493-c497-4b13-a4f8-2cdcaa77ffc8",
   "metadata": {},
   "source": [
    "Мы видим при выводе повторы: проблема в том, что при выводе данных для каждого индивида происходит повторный вывод одних и тех же связей. Это может происходить из-за того, что связь между индивидом и его свойствами устанавливается несколько раз или же несколько значений для свойства. Чтобы избежать повторений, можно использовать структуру данных, которая гарантирует уникальность значений, например, set, для хранения уже выведенных данных."
   ]
  },
  {
   "cell_type": "code",
   "execution_count": 37,
   "id": "34b4788f-7cdb-483a-a7f5-2630705ab404",
   "metadata": {},
   "outputs": [
    {
     "name": "stdout",
     "output_type": "stream",
     "text": [
      "rock (Genre)\n",
      "pop (Genre)\n",
      "queen (Artist)\n",
      "  performs -> bohemian_rhapsody\n",
      "taylorswift (Artist)\n",
      "  performs -> shake_it_off\n",
      "bohemian_rhapsody (Song)\n",
      "  has_genre -> rock\n",
      "shake_it_off (Song)\n",
      "  has_genre -> pop\n",
      "edsheeran (Artist)\n",
      "  performs -> perfect\n",
      "perfect (Song)\n",
      "  has_genre -> ballad\n",
      "ballad (Genre)\n",
      "metallica (Artist)\n",
      "  performs -> nothing_else_matters\n",
      "nothing_else_matters (Song)\n",
      "avicii (Artist)\n",
      "  performs -> wake_me_up\n",
      "wake_me_up (Song)\n",
      "  has_genre -> None\n",
      "  has_genre -> electronic\n",
      "electronic (Genre)\n"
     ]
    }
   ],
   "source": [
    "# Просмотр триплетов без повторений\n",
    "\"\"\"\n",
    "Загружаем OWL-файл и выводим связи для каждого индивидуума, предотвращая вывод повторений.\n",
    "\"\"\"\n",
    "onload = get_ontology(\"music_ontology.owl\").load()\n",
    "\n",
    "# Множество для отслеживания уже выведенных связей\n",
    "seen_triples = set()\n",
    "\n",
    "for ind in onload.individuals():\n",
    "    print(f\"{ind.name} ({ind.__class__.__name__})\")\n",
    "    for prop in ind.get_properties():\n",
    "        for val in prop[ind]:\n",
    "            if val is not None:  # Проверяем, что значение не None\n",
    "                 # Формируем уникальный идентификатор для каждого триплета\n",
    "                 triple = (prop.name, val.name)\n",
    "                 if triple not in seen_triples:\n",
    "                     print(f\"  {prop.name} -> {val.name}\")\n",
    "                     seen_triples.add(triple)  # Добавляем триплет в множество\n",
    "            else:\n",
    "                print(f\"  {prop.name} -> None\")\n",
    "           \n"
   ]
  },
  {
   "cell_type": "markdown",
   "id": "66d752f9-4b52-4b2d-9719-85c7a473c57c",
   "metadata": {},
   "source": [
    "#### Удаляем все элементы, равные None, из свойства has_genre для каждой песни"
   ]
  },
  {
   "cell_type": "code",
   "execution_count": 42,
   "id": "d19f563d-b9dd-4264-b28b-d503e34ef9c1",
   "metadata": {},
   "outputs": [
    {
     "name": "stdout",
     "output_type": "stream",
     "text": [
      "rock (Genre)\n",
      "pop (Genre)\n",
      "queen (Artist)\n",
      "  performs -> bohemian_rhapsody\n",
      "  performs -> bohemian_rhapsody\n",
      "  performs -> bohemian_rhapsody\n",
      "taylorswift (Artist)\n",
      "  performs -> shake_it_off\n",
      "  performs -> shake_it_off\n",
      "  performs -> shake_it_off\n",
      "bohemian_rhapsody (Song)\n",
      "  has_genre -> rock\n",
      "  has_genre -> rock\n",
      "  has_genre -> rock\n",
      "shake_it_off (Song)\n",
      "  has_genre -> pop\n",
      "  has_genre -> pop\n",
      "  has_genre -> pop\n",
      "edsheeran (Artist)\n",
      "  performs -> perfect\n",
      "  performs -> perfect\n",
      "  performs -> perfect\n",
      "perfect (Song)\n",
      "  has_genre -> ballad\n",
      "  has_genre -> ballad\n",
      "  has_genre -> ballad\n",
      "ballad (Genre)\n",
      "metallica (Artist)\n",
      "  performs -> nothing_else_matters\n",
      "  performs -> nothing_else_matters\n",
      "  performs -> nothing_else_matters\n",
      "  performs -> nothing_else_matters\n",
      "nothing_else_matters (Song)\n",
      "  has_genre -> rock\n",
      "  has_genre -> rock\n",
      "  has_genre -> rock\n",
      "  has_genre -> rock\n",
      "avicii (Artist)\n",
      "  performs -> wake_me_up\n",
      "  performs -> wake_me_up\n",
      "  performs -> wake_me_up\n",
      "  performs -> wake_me_up\n",
      "wake_me_up (Song)\n",
      "  has_genre -> electronic\n",
      "  has_genre -> electronic\n",
      "  has_genre -> electronic\n",
      "electronic (Genre)\n"
     ]
    }
   ],
   "source": [
    "\n",
    "with onload:\n",
    "    for song in onload.Song.instances():\n",
    "        # Проходим по всем жанрам и удаляем None\n",
    "        genres_to_remove = [genre for genre in song.has_genre if genre is None]\n",
    "        for genre in genres_to_remove:\n",
    "            song.has_genre.remove(genre)\n",
    "\n",
    "# Выводим снова для проверки\n",
    "for ind in onload.individuals():\n",
    "    print(f\"{ind.name} ({ind.__class__.__name__})\")\n",
    "    for prop in ind.get_properties():\n",
    "        for val in prop[ind]:\n",
    "            print(f\"  {prop.name} -> {val.name}\")\n"
   ]
  },
  {
   "cell_type": "markdown",
   "id": "6b15903e-8694-430f-9c78-bdb003883dc1",
   "metadata": {},
   "source": [
    "# 📘 Добавление нового исполнителя и песни\n",
    "\n",
    "Добавим нового исполнителя и сохраним онтологию заново.\n"
   ]
  },
  {
   "cell_type": "code",
   "execution_count": 43,
   "id": "8a9bd1e9-8a8a-4bc3-9d4a-4855c36d6dff",
   "metadata": {},
   "outputs": [],
   "source": [
    "with onload:\n",
    "    edsheeran = onload.Artist(\"edsheeran\")\n",
    "    perfect = onload.Song(\"perfect\")\n",
    "    ballad = onload.Genre(\"ballad\")\n",
    "    edsheeran.performs.append(perfect)\n",
    "    perfect.has_genre.append(ballad)\n",
    "\n",
    "onload.save(file=\"music_ontology_updated.owl\", format=\"rdfxml\")"
   ]
  },
  {
   "cell_type": "markdown",
   "id": "32c553fd-9b30-4495-8a36-d279869d13a7",
   "metadata": {},
   "source": [
    "# 📘  Использование SPARQL через RDFLib\n",
    "\n",
    "Преобразуем онтологию в граф и делаем SPARQL-запрос: найти всех исполнителей песен в жанре 'rock'.\n"
   ]
  },
  {
   "cell_type": "code",
   "execution_count": 44,
   "id": "d825137e-6089-46cc-8196-f04c24c86dc5",
   "metadata": {},
   "outputs": [
    {
     "name": "stdout",
     "output_type": "stream",
     "text": [
      "Rock Artists from SPARQL:\n",
      "queen\n",
      "metallica\n"
     ]
    }
   ],
   "source": [
    "from rdflib import Graph\n",
    "\n",
    "g = Graph()\n",
    "g.parse(\"music_ontology_updated.owl\")\n",
    "\n",
    "qres = g.query('''\n",
    "PREFIX : <http://example.org/music_ontology.owl#>\n",
    "SELECT ?artist WHERE {\n",
    "  ?artist a :Artist .\n",
    "  ?artist :performs ?song .\n",
    "  ?song :has_genre :rock .\n",
    "}''')\n",
    "\n",
    "print(\"Rock Artists from SPARQL:\")\n",
    "for row in qres:\n",
    "    print(row[0].split(\"#\")[-1])"
   ]
  },
  {
   "cell_type": "markdown",
   "id": "e141963e-c380-4a6c-9289-3e0e745b3bec",
   "metadata": {},
   "source": [
    "# 📘  Визуализация онтологии с networkx\n",
    "\n",
    "Построим простой граф (исполнитель → песня → жанр).\n"
   ]
  },
  {
   "cell_type": "code",
   "execution_count": 45,
   "id": "0d48a1b7-0370-4433-8c58-c817fef494da",
   "metadata": {},
   "outputs": [
    {
     "data": {
      "image/png": "[encoded data removed]",
      "text/plain": [
       "<Figure size 800x600 with 1 Axes>"
      ]
     },
     "metadata": {},
     "output_type": "display_data"
    }
   ],
   "source": [
    "import networkx as nx\n",
    "import matplotlib.pyplot as plt\n",
    "\n",
    "G = nx.DiGraph()\n",
    "\n",
    "for artist in onload.Artist.instances():\n",
    "    for song in artist.performs:\n",
    "        G.add_edge(artist.name, song.name)\n",
    "        for genre in song.has_genre:\n",
    "            G.add_edge(song.name, genre.name)\n",
    "\n",
    "plt.figure(figsize=(8,6))\n",
    "pos = nx.spring_layout(G)\n",
    "nx.draw(G, pos, with_labels=True, arrows=True, node_color='lightblue')\n",
    "plt.title(\"Music Ontology Graph\")\n",
    "plt.show()"
   ]
  },
  {
   "cell_type": "markdown",
   "id": "b66aa65c-f5de-46a6-9600-46b82bc6e09a",
   "metadata": {},
   "source": [
    "# 📘 Добавление аксиомы (эквивалентность классов)\n",
    "\n",
    "Если артист исполняет песню в жанре 'rock' → RockArtist\n"
   ]
  },
  {
   "cell_type": "code",
   "execution_count": 46,
   "id": "4e8f424c-0912-4110-8233-d02b703b79fe",
   "metadata": {},
   "outputs": [
    {
     "name": "stdout",
     "output_type": "stream",
     "text": [
      "\n",
      "Rock Artists (inferred manually):\n",
      "metallica\n",
      "queen\n"
     ]
    }
   ],
   "source": [
    "with onload:\n",
    "    class RockArtist(onload.Artist):\n",
    "        equivalent_to = [onload.Artist & onload.performs.some(onload.has_genre.value(onload.rock))]\n",
    "\n",
    "# Псевдо-инференция без reasoner\n",
    "rock_artists = set()\n",
    "for artist in onload.Artist.instances():\n",
    "    for song in artist.performs:\n",
    "        if onload.rock in song.has_genre:\n",
    "            rock_artists.add(artist.name)\n",
    "\n",
    "print(\"\\nRock Artists (inferred manually):\")\n",
    "print(\"\\n\".join(rock_artists))"
   ]
  },
  {
   "cell_type": "markdown",
   "id": "51c46d34-2298-40f9-8bbd-3a62495de677",
   "metadata": {},
   "source": [
    "# 📘 Генерация онтологии из CSV\n",
    "\n",
    "Загружаем CSV с артистами, песнями и жанрами и автоматически создаём онтологию.\n"
   ]
  },
  {
   "cell_type": "code",
   "execution_count": 56,
   "id": "ecdc5e59-bd7b-43f7-8a42-b98f89a267b4",
   "metadata": {},
   "outputs": [],
   "source": [
    "import pandas as pd\n",
    "\n",
    "# Обновленные данные\n",
    "data = pd.DataFrame({\n",
    "    \"artist\": [\"metallica\", \"avicii\", \"queen\", \"taylorswift\", \"edsheeran\", \"beyoncé\", \"drake\", \"kanyewest\"],\n",
    "    \"song\": [\"nothing_else_matters\", \"wake_me_up\", \"bohemian_rhapsody\", \"shake_it_off\", \"perfect\", \"halo\", \"god's_plan\", \"stronger\"],\n",
    "    \"genre\": [\"rock\", \"electronic\", \"rock\", \"pop\", \"ballad\", \"pop\", \"hip_hop\", \"hip_hop\"]\n",
    "})\n",
    "\n",
    "with onload:\n",
    "    for _, row in data.iterrows():\n",
    "        # Создаем исполнителя и песню\n",
    "        a = onload.Artist(row.artist)\n",
    "        s = onload.Song(row.song)\n",
    "\n",
    "        # Проверяем, существует ли жанр в онтологии\n",
    "        if not hasattr(onload, row.genre.replace(' ', '_').lower()):\n",
    "            # Если жанр не существует, создаем новый жанр как класс\n",
    "            genre_class_name = row.genre.replace(' ', '_').lower()\n",
    "            g = type(genre_class_name, (onload.Genre,), {})  # Динамически создаем жанр\n",
    "            setattr(onload, genre_class_name, g)  # Добавляем жанр в пространство имен\n",
    "\n",
    "        else:\n",
    "            # Если жанр существует, получаем его\n",
    "            g = getattr(onload, row.genre.replace(' ', '_').lower())\n",
    "\n",
    "        # Добавляем песню к исполнителю и жанр к песне\n",
    "        a.performs.append(s)\n",
    "        s.has_genre.append(g)\n"
   ]
  },
  {
   "cell_type": "markdown",
   "id": "a0e8d2d3-6dee-4d3c-93c6-109b3ebe6e4c",
   "metadata": {},
   "source": [
    "# 📘  Проверка подтипов и иерархий\n",
    "\n",
    "Выводим всех подтипов Artist и их индивидуумов.\n"
   ]
  },
  {
   "cell_type": "code",
   "execution_count": 59,
   "id": "53e4138a-9c28-4915-8524-42ebb7a895de",
   "metadata": {},
   "outputs": [
    {
     "name": "stdout",
     "output_type": "stream",
     "text": [
      "\n",
      "Subclasses of Artist:\n",
      "RockArtist: []\n"
     ]
    }
   ],
   "source": [
    "print(\"\\nSubclasses of Artist:\")\n",
    "for sub in Artist.subclasses():\n",
    "    print(f\"{sub.name}:\", [i.name for i in sub.instances()])"
   ]
  },
  {
   "cell_type": "code",
   "execution_count": 62,
   "id": "0d1b0f82-c68c-41a6-9223-20b40608f4b2",
   "metadata": {},
   "outputs": [
    {
     "name": "stdout",
     "output_type": "stream",
     "text": [
      "music_ontology.RockArtist\n"
     ]
    }
   ],
   "source": [
    " for sub in Artist.subclasses():\n",
    "     print (sub)"
   ]
  },
  {
   "cell_type": "code",
   "execution_count": 58,
   "id": "0a1be7bd-39be-41aa-ab3a-ec3b54335591",
   "metadata": {},
   "outputs": [
    {
     "name": "stdout",
     "output_type": "stream",
     "text": [
      "['queen', 'taylorswift', 'edsheeran', 'metallica', 'avicii', 'beyoncé', 'drake', 'kanyewest']\n"
     ]
    }
   ],
   "source": [
    "print([a.name for a in Artist.instances()])\n"
   ]
  },
  {
   "cell_type": "markdown",
   "id": "c80ef269-2a66-4ad0-9304-d66e285cbcea",
   "metadata": {},
   "source": [
    "# 📘Сериализация в другие форматы (Turtle, N-Triples)\n",
    "\n",
    "Сохраняем RDF в Turtle и N-Triples для последующего анализа.\n"
   ]
  },
  {
   "cell_type": "code",
   "execution_count": 54,
   "id": "437090d0-7a81-49cc-b575-e22d944b2a88",
   "metadata": {},
   "outputs": [
    {
     "data": {
      "text/plain": [
       "<Graph identifier=N8f68606e13ed4b3eb9b965e9a57cc3c4 (<class 'rdflib.graph.Graph'>)>"
      ]
     },
     "execution_count": 54,
     "metadata": {},
     "output_type": "execute_result"
    }
   ],
   "source": [
    "rdf_graph = Graph()\n",
    "rdf_graph.parse(\"music_ontology_updated.owl\")\n",
    "rdf_graph.serialize(destination=\"music.ttl\", format=\"turtle\")\n",
    "rdf_graph.serialize(destination=\"music.nt\", format=\"nt\")"
   ]
  },
  {
   "cell_type": "markdown",
   "id": "cf6404f8-6c49-45c1-8e1b-2d499ff3a34b",
   "metadata": {},
   "source": [
    "# 📘  Использование SPARQLWrapper для удалённого запроса\n",
    "\n",
    "Если есть SPARQL endpoint, можно отправлять запросы из Python.\n",
    "(пример с DBpedia)\n"
   ]
  },
  {
   "cell_type": "code",
   "execution_count": 55,
   "id": "addff2ce-a158-4b56-8974-1a18e283f497",
   "metadata": {},
   "outputs": [
    {
     "name": "stdout",
     "output_type": "stream",
     "text": [
      "\n",
      "Rock Artists from DBpedia:\n",
      "http://dbpedia.org/resource/Caleb_Johnson\n",
      "http://dbpedia.org/resource/Calle_Kristiansson\n",
      "http://dbpedia.org/resource/Calvin_%22Fuzzy%22_Samuel\n",
      "http://dbpedia.org/resource/Camila_Moreno\n",
      "http://dbpedia.org/resource/Cara_Luft\n"
     ]
    }
   ],
   "source": [
    "from SPARQLWrapper import SPARQLWrapper, JSON\n",
    "\n",
    "sparql = SPARQLWrapper(\"http://dbpedia.org/sparql\")\n",
    "sparql.setQuery(\"\"\"\n",
    "    SELECT ?artist WHERE {\n",
    "      ?artist a dbo:MusicalArtist .\n",
    "      ?artist dbo:genre dbr:Rock_music .\n",
    "    } LIMIT 5\n",
    "\"\"\")\n",
    "sparql.setReturnFormat(JSON)\n",
    "results = sparql.query().convert()\n",
    "\n",
    "print(\"\\nRock Artists from DBpedia:\")\n",
    "for res in results[\"results\"][\"bindings\"]:\n",
    "    print(res[\"artist\"][\"value\"])"
   ]
  },
  {
   "cell_type": "code",
   "execution_count": null,
   "id": "9fa778ca-197f-42ab-b33d-e02e7e4f4294",
   "metadata": {},
   "outputs": [],
   "source": []
  }
 ],
 "metadata": {
  "kernelspec": {
   "display_name": "Python 3 (ipykernel)",
   "language": "python",
   "name": "python3"
  },
  "language_info": {
   "codemirror_mode": {
    "name": "ipython",
    "version": 3
   },
   "file_extension": ".py",
   "mimetype": "text/x-python",
   "name": "python",
   "nbconvert_exporter": "python",
   "pygments_lexer": "ipython3",
   "version": "3.12.7"
  }
 },
 "nbformat": 4,
 "nbformat_minor": 5
}
